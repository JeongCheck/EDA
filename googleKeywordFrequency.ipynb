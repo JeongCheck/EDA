{
 "cells": [
  {
   "cell_type": "markdown",
   "id": "f56ec452",
   "metadata": {},
   "source": [
    "# Google Review Keyword Frequency\n",
    "\n",
    "## 수행 요소\n",
    "1. keyword별 빈도수 리스트 파일로 저장 "
   ]
  },
  {
   "cell_type": "markdown",
   "id": "ac0a2be0",
   "metadata": {},
   "source": [
    "## Data path 확인"
   ]
  },
  {
   "cell_type": "code",
   "execution_count": 2,
   "id": "03045413",
   "metadata": {},
   "outputs": [
    {
     "name": "stdout",
     "output_type": "stream",
     "text": [
      "/home/aiffel-dj19/jungcheck/EDA\r\n"
     ]
    }
   ],
   "source": [
    "!pwd # 현재 경로 확인 "
   ]
  },
  {
   "cell_type": "markdown",
   "id": "bc8b7742",
   "metadata": {},
   "source": [
    "아래 tree 명령어로 상위 폴더(jungcheck)내 파일 구성을 볼 수 있습니다.    "
   ]
  },
  {
   "cell_type": "code",
   "execution_count": 3,
   "id": "ad3d073c",
   "metadata": {
    "scrolled": true
   },
   "outputs": [
    {
     "name": "stdout",
     "output_type": "stream",
     "text": [
      "frequency  googleKeywordFrequency.ipynb\r\n"
     ]
    }
   ],
   "source": [
    "!ls . # 현재 위치의 file list"
   ]
  },
  {
   "cell_type": "code",
   "execution_count": 4,
   "id": "647c4652",
   "metadata": {
    "scrolled": false
   },
   "outputs": [
    {
     "name": "stdout",
     "output_type": "stream",
     "text": [
      "./data/google_review [error opening dir]\r\n",
      "\r\n",
      "0 directories, 0 files\r\n"
     ]
    }
   ],
   "source": [
    "!tree -L 3 -N ./data/google_review # jungcheck 폴더내 경로 확인 "
   ]
  },
  {
   "cell_type": "markdown",
   "id": "edbfec02",
   "metadata": {},
   "source": [
    "## Library Import"
   ]
  },
  {
   "cell_type": "code",
   "execution_count": 5,
   "id": "2a4d817a",
   "metadata": {},
   "outputs": [],
   "source": [
    "import os \n",
    "import glob\n",
    "from tqdm import tqdm\n",
    "\n",
    "import re\n",
    "import pandas as pd \n",
    "import copy # deep copy"
   ]
  },
  {
   "cell_type": "markdown",
   "id": "d0fcc730",
   "metadata": {},
   "source": [
    "## Data Path & Load "
   ]
  },
  {
   "cell_type": "code",
   "execution_count": 10,
   "id": "c6afc77f",
   "metadata": {},
   "outputs": [
    {
     "data": {
      "text/plain": [
       "'/home/aiffel-dj19/jungcheck'"
      ]
     },
     "execution_count": 10,
     "metadata": {},
     "output_type": "execute_result"
    }
   ],
   "source": [
    "root = os.getenv('HOME') + '/jungcheck'\n",
    "root"
   ]
  },
  {
   "cell_type": "code",
   "execution_count": 11,
   "id": "fedfedb1",
   "metadata": {},
   "outputs": [
    {
     "data": {
      "text/plain": [
       "'/home/aiffel-dj19/jungcheck/data/google_review/'"
      ]
     },
     "execution_count": 11,
     "metadata": {},
     "output_type": "execute_result"
    }
   ],
   "source": [
    "data_path = os.path.join(root, 'data/google_review/')\n",
    "data_path"
   ]
  },
  {
   "cell_type": "code",
   "execution_count": 12,
   "id": "685461e1",
   "metadata": {},
   "outputs": [
    {
     "name": "stdout",
     "output_type": "stream",
     "text": [
      "['07장태산', '05계족산', '09동춘당', '11으능정이문화의거리', '02뿌리공원', '03엑스포', '13성심당', '14수통골', '12유성온천', '04한밭수목원', '17국립중앙과학관', '06대청호', '16대전문화예술단지', '13시민천문대', '01오월드']\n",
      "15\n"
     ]
    }
   ],
   "source": [
    "folders = os.listdir(data_path)\n",
    "print(folders)\n",
    "print(len(folders)) # 17개 대상 관광지 중 15개 "
   ]
  },
  {
   "cell_type": "code",
   "execution_count": 13,
   "id": "e6983f03",
   "metadata": {
    "scrolled": true
   },
   "outputs": [
    {
     "data": {
      "text/plain": [
       "{'장태산': 'jangtae_mountain',\n",
       " '계족산': 'gyejok_mountain',\n",
       " '동춘당': 'dongchundang',\n",
       " '으능정이문화의거리': 'uineungjeongi_street',\n",
       " '뿌리공원': 'ppuri_park',\n",
       " '엑스포': 'expo_science_park',\n",
       " '성심당': 'sungsimdang_bakery',\n",
       " '수통골': 'water_barrel',\n",
       " '유성온천': 'yuseong_hotspring',\n",
       " '한밭수목원': 'hanbat_arboretum',\n",
       " '국립중앙과학관': 'science_museum',\n",
       " '대청호': 'daecheong_lake',\n",
       " '대전문화예술단지': 'art_culture_complex',\n",
       " '시민천문대': 'observatory',\n",
       " '오월드': 'oworld_zoo'}"
      ]
     },
     "execution_count": 13,
     "metadata": {},
     "output_type": "execute_result"
    }
   ],
   "source": [
    "keywords_ko = [file_name[2:] for file_name in folders]\n",
    "keywords_en = ['jangtae_mountain', 'gyejok_mountain', 'dongchundang', 'uineungjeongi_street', 'ppuri_park', \n",
    "               'expo_science_park', 'sungsimdang_bakery', 'water_barrel', 'yuseong_hotspring', 'hanbat_arboretum', \n",
    "               'science_museum','daecheong_lake', 'art_culture_complex', 'observatory', 'oworld_zoo']\n",
    "\n",
    "keywords = {k:v for k, v in zip(keywords_ko, keywords_en)}\n",
    "keywords"
   ]
  },
  {
   "cell_type": "code",
   "execution_count": 14,
   "id": "06592b43",
   "metadata": {
    "scrolled": true
   },
   "outputs": [
    {
     "data": {
      "text/plain": [
       "'/home/aiffel-dj19/jungcheck/filtered/google_review/'"
      ]
     },
     "execution_count": 14,
     "metadata": {},
     "output_type": "execute_result"
    }
   ],
   "source": [
    "filtered_path = os.path.join(root, 'filtered/google_review/')\n",
    "filtered_path"
   ]
  },
  {
   "cell_type": "code",
   "execution_count": 15,
   "id": "24f8a7e4",
   "metadata": {},
   "outputs": [
    {
     "name": "stdout",
     "output_type": "stream",
     "text": [
      "['gyejok_mountain.csv', 'dongchundang.csv', 'observatory.csv', 'hanbat_arboretum.csv', 'expo_science_park.csv', 'uineungjeongi_street.csv', 'oworld_zoo.csv', 'daecheong_lake.csv', 'water_barrel.csv', 'ppuri_park.csv', 'jangtae_mountain.csv', 'science_museum.csv', 'yuseong_hotspring.csv', 'sungsimdang_bakery.csv', 'art_culture_complex.csv']\n",
      "15\n"
     ]
    }
   ],
   "source": [
    "folders = os.listdir(filtered_path)\n",
    "print(folders)\n",
    "print(len(folders)) # 17개 대상 관광지 중 15개 "
   ]
  },
  {
   "cell_type": "code",
   "execution_count": 16,
   "id": "fd8bba35",
   "metadata": {
    "scrolled": true
   },
   "outputs": [
    {
     "data": {
      "text/plain": [
       "{'jangtae_mountain': '장태산',\n",
       " 'gyejok_mountain': '계족산',\n",
       " 'dongchundang': '동춘당',\n",
       " 'uineungjeongi_street': '으능정이문화의거리',\n",
       " 'ppuri_park': '뿌리공원',\n",
       " 'expo_science_park': '엑스포',\n",
       " 'sungsimdang_bakery': '성심당',\n",
       " 'water_barrel': '수통골',\n",
       " 'yuseong_hotspring': '유성온천',\n",
       " 'hanbat_arboretum': '한밭수목원',\n",
       " 'science_museum': '국립중앙과학관',\n",
       " 'daecheong_lake': '대청호',\n",
       " 'art_culture_complex': '대전문화예술단지',\n",
       " 'observatory': '시민천문대',\n",
       " 'oworld_zoo': '오월드'}"
      ]
     },
     "execution_count": 16,
     "metadata": {},
     "output_type": "execute_result"
    }
   ],
   "source": [
    "# key <=> value\n",
    "keywords = {v:k for k, v in keywords.items()}\n",
    "keywords"
   ]
  },
  {
   "cell_type": "markdown",
   "id": "0e2dc906",
   "metadata": {},
   "source": [
    "👉 영어 keyword로 한글로 된 keyword를 살펴볼거기 때문에 key와 value를 바꿔줍니다. "
   ]
  },
  {
   "cell_type": "code",
   "execution_count": 17,
   "id": "a7bd57b6",
   "metadata": {},
   "outputs": [],
   "source": [
    "# root_path내의 dataframe을 합해주는 함수\n",
    "def concatCsv(root_path:str, files_list:list):\n",
    "    data_list = []\n",
    "        \n",
    "    for file in files_list:\n",
    "        file_path = os.path.join(root_path, file)\n",
    "        print(file_path)\n",
    "\n",
    "        df = pd.read_csv(file_path, encoding='utf-8')  # csv 파일 읽기\n",
    "        data_list.append(df)\n",
    "\n",
    "    df = pd.concat(data_list, axis=0)\n",
    "    return df"
   ]
  },
  {
   "cell_type": "code",
   "execution_count": 18,
   "id": "f4d5dd94",
   "metadata": {},
   "outputs": [
    {
     "name": "stdout",
     "output_type": "stream",
     "text": [
      "/home/aiffel-dj19/jungcheck/filtered/google_review/gyejok_mountain.csv\n",
      "/home/aiffel-dj19/jungcheck/filtered/google_review/dongchundang.csv\n",
      "/home/aiffel-dj19/jungcheck/filtered/google_review/observatory.csv\n",
      "/home/aiffel-dj19/jungcheck/filtered/google_review/hanbat_arboretum.csv\n",
      "/home/aiffel-dj19/jungcheck/filtered/google_review/expo_science_park.csv\n",
      "/home/aiffel-dj19/jungcheck/filtered/google_review/uineungjeongi_street.csv\n",
      "/home/aiffel-dj19/jungcheck/filtered/google_review/oworld_zoo.csv\n",
      "/home/aiffel-dj19/jungcheck/filtered/google_review/daecheong_lake.csv\n",
      "/home/aiffel-dj19/jungcheck/filtered/google_review/water_barrel.csv\n",
      "/home/aiffel-dj19/jungcheck/filtered/google_review/ppuri_park.csv\n",
      "/home/aiffel-dj19/jungcheck/filtered/google_review/jangtae_mountain.csv\n",
      "/home/aiffel-dj19/jungcheck/filtered/google_review/science_museum.csv\n",
      "/home/aiffel-dj19/jungcheck/filtered/google_review/yuseong_hotspring.csv\n",
      "/home/aiffel-dj19/jungcheck/filtered/google_review/sungsimdang_bakery.csv\n",
      "/home/aiffel-dj19/jungcheck/filtered/google_review/art_culture_complex.csv\n"
     ]
    },
    {
     "data": {
      "text/plain": [
       "8417"
      ]
     },
     "execution_count": 18,
     "metadata": {},
     "output_type": "execute_result"
    }
   ],
   "source": [
    "filtered_df = concatCsv(filtered_path, folders)\n",
    "len(filtered_df)"
   ]
  },
  {
   "cell_type": "code",
   "execution_count": 19,
   "id": "2d1c42a4",
   "metadata": {
    "scrolled": false
   },
   "outputs": [
    {
     "name": "stdout",
     "output_type": "stream",
     "text": [
      "jangtae_mountain과 연관된 검색어는 518개\n",
      "['장태산자연휴양림숲속의집', '장태산자연휴양림메타세콰이어산림욕장', '장태산자연휴양림전망대', '장태산자연휴양림']\n",
      "----------------------------------------\n",
      "gyejok_mountain과 연관된 검색어는 483개\n",
      "['계족산성', '계족산(봉우리읍내동)', '계족산황톳길']\n",
      "----------------------------------------\n",
      "dongchundang과 연관된 검색어는 328개\n",
      "['동춘당공원', '회덕동춘당']\n",
      "----------------------------------------\n",
      "uineungjeongi_street과 연관된 검색어는 333개\n",
      "['으능정이거리', '대전스카이로드', '으능정이문화거리']\n",
      "----------------------------------------\n",
      "ppuri_park과 연관된 검색어는 426개\n",
      "['뿌리공원']\n",
      "----------------------------------------\n",
      "expo_science_park과 연관된 검색어는 782개\n",
      "['세계엑스포기념품박물관', '엑스포과학공원', '한빛탑', '엑스포음악분수', '엑스포다리']\n",
      "----------------------------------------\n",
      "sungsimdang_bakery과 연관된 검색어는 1862개\n",
      "['성심당본점', '성심당대전역점', '성심당케잌부띠끄본점', '성심당롯데백화점대전점', '성심당DCC점']\n",
      "----------------------------------------\n",
      "water_barrel과 연관된 검색어는 685개\n",
      "['수통골유원지', '계룡산국립공원수통골지구']\n",
      "----------------------------------------\n",
      "yuseong_hotspring과 연관된 검색어는 432개\n",
      "['유성온천족욕체험장', '유성온천공원']\n",
      "----------------------------------------\n",
      "hanbat_arboretum과 연관된 검색어는 403개\n",
      "['한밭수목원']\n",
      "----------------------------------------\n",
      "science_museum과 연관된 검색어는 380개\n",
      "['국립중앙과학관']\n",
      "----------------------------------------\n",
      "daecheong_lake과 연관된 검색어는 491개\n",
      "['대청호', '대청댐물문화관', '대청호반자연생태공원']\n",
      "----------------------------------------\n",
      "art_culture_complex과 연관된 검색어는 823개\n",
      "['이응노미술관', '대전시립미술관', '대전예술의전당']\n",
      "----------------------------------------\n",
      "observatory과 연관된 검색어는 26개\n",
      "['대전시민천문대']\n",
      "----------------------------------------\n",
      "oworld_zoo과 연관된 검색어는 445개\n",
      "['오월드']\n",
      "----------------------------------------\n"
     ]
    }
   ],
   "source": [
    "for key_en, key_ko in keywords.items():\n",
    "    cnt = filtered_df[filtered_df['keyword']==key_en]['search'].count()\n",
    "    print(f'{key_en}과 연관된 검색어는 {cnt}개')\n",
    "    print(list(set(filtered_df[filtered_df['keyword']==key_en]['search'])))\n",
    "    print('-'*40)"
   ]
  },
  {
   "cell_type": "markdown",
   "id": "2933c776",
   "metadata": {},
   "source": [
    "## Frequency"
   ]
  },
  {
   "cell_type": "code",
   "execution_count": 20,
   "id": "f336c4e6",
   "metadata": {},
   "outputs": [],
   "source": [
    "from soynlp.noun import LRNounExtractor\n",
    "from soynlp.noun import LRNounExtractor_v2\n",
    "from soynlp.noun import NewsNounExtractor\n",
    "\n",
    "def get_noun_sorted_by_frequency(noun_extractor):\n",
    "    \"\"\"\n",
    "    Description\n",
    "    이미 학습되어 있는 noun_extractor의 noun을 \n",
    "    frequency 내림차순으로 정렬하여 리턴함.\n",
    "    \"\"\"\n",
    "    return_lst = list()\n",
    "    nouns = noun_extractor.extract()\n",
    "    for (each_noun, each_noun_info) in nouns.items():\n",
    "        each_noun_dict = {\n",
    "            \"noun\": each_noun,\n",
    "            \"frequency\": each_noun_info.frequency, \n",
    "            \"score\": each_noun_info.score\n",
    "        }\n",
    "        return_lst.append(each_noun_dict)\n",
    "    return_lst = sorted(return_lst, key=lambda x: x['frequency'], reverse=True)\n",
    "    return return_lst"
   ]
  },
  {
   "cell_type": "code",
   "execution_count": 21,
   "id": "91de9e25",
   "metadata": {},
   "outputs": [
    {
     "name": "stdout",
     "output_type": "stream",
     "text": [
      "/home/aiffel-dj19/anaconda3/envs/aiffel/lib/python3.7/site-packages/soynlp\n",
      "local variable 'f' referenced before assignment\n",
      "local variable 'f' referenced before assignment\n"
     ]
    }
   ],
   "source": [
    "noun_extractor_dict = {\n",
    "    \"LRNounExtractor\": LRNounExtractor(verbose=False), \n",
    "    \"LRNounExtractor_v2\": LRNounExtractor_v2(verbose=False), \n",
    "    \"NewsNounExtractor\": NewsNounExtractor(verbose=False)\n",
    "}"
   ]
  },
  {
   "cell_type": "markdown",
   "id": "ef1b1fea",
   "metadata": {},
   "source": [
    "### Sample"
   ]
  },
  {
   "cell_type": "code",
   "execution_count": 22,
   "id": "8ab6bb77",
   "metadata": {},
   "outputs": [],
   "source": [
    "target = 'oworld_zoo'"
   ]
  },
  {
   "cell_type": "code",
   "execution_count": 23,
   "id": "a16dc495",
   "metadata": {},
   "outputs": [],
   "source": [
    "test_list = filtered_df[filtered_df['keyword']==target]['comment']\n",
    "# filtered_list = ' '.join(test_list)"
   ]
  },
  {
   "cell_type": "code",
   "execution_count": 24,
   "id": "e7d5f3ff",
   "metadata": {
    "scrolled": false
   },
   "outputs": [
    {
     "name": "stdout",
     "output_type": "stream",
     "text": [
      "== extractor: LRNounExtractor\n",
      "{'noun': '좋아', 'frequency': 97, 'score': 0.9816450000000001}\n",
      "{'noun': '동물', 'frequency': 86, 'score': 0.6618587111111112}\n",
      "{'noun': '아이들', 'frequency': 55, 'score': 0.9746742380952381}\n",
      "{'noun': '놀이기구', 'frequency': 49, 'score': 0.5038004444444445}\n",
      "{'noun': '동물들', 'frequency': 41, 'score': 0.7504501538461539}\n",
      "{'noun': '대전', 'frequency': 30, 'score': 0.6999128333333334}\n",
      "{'noun': '사람', 'frequency': 25, 'score': 0.8774649999999999}\n",
      "{'noun': '아이', 'frequency': 23, 'score': 0.8065679166666667}\n",
      "{'noun': '시간', 'frequency': 23, 'score': 0.8958123}\n",
      "{'noun': '오월드', 'frequency': 22, 'score': 0.8750070000000001}\n",
      "{'noun': '코로나', 'frequency': 20, 'score': 0.99883}\n",
      "{'noun': '애들', 'frequency': 17, 'score': 0.9988382727272728}\n",
      "{'noun': '곳이', 'frequency': 17, 'score': 0.99972}\n",
      "{'noun': '장소', 'frequency': 14, 'score': 0.9993850000000001}\n",
      "{'noun': '놀이', 'frequency': 14, 'score': 0.9889071666666668}\n",
      "{'noun': '버드랜드', 'frequency': 14, 'score': 0.9373406249999999}\n",
      "{'noun': '최고', 'frequency': 12, 'score': 0.9998249999999999}\n",
      "{'noun': '놀이동산', 'frequency': 12, 'score': 0.678056}\n",
      "{'noun': '나들', 'frequency': 11, 'score': 0.9991850000000001}\n",
      "{'noun': '이용', 'frequency': 11, 'score': 0.989263}\n",
      "----------------------------------------------------------------------------------------------------\n",
      "== extractor: LRNounExtractor_v2\n",
      "{'noun': '동물', 'frequency': 87, 'score': 1.0}\n",
      "{'noun': '수', 'frequency': 57, 'score': 1.0}\n",
      "{'noun': '사파리', 'frequency': 54, 'score': 1.0}\n",
      "{'noun': '놀이기구', 'frequency': 42, 'score': 0.9130434782608695}\n",
      "{'noun': '아이들', 'frequency': 36, 'score': 1.0}\n",
      "{'noun': '것', 'frequency': 33, 'score': 0.8823529411764706}\n",
      "{'noun': '잘', 'frequency': 33, 'score': 1.0}\n",
      "{'noun': '대전', 'frequency': 30, 'score': 0.8333333333333334}\n",
      "{'noun': '곳', 'frequency': 29, 'score': 0.6666666666666666}\n",
      "{'noun': '사람', 'frequency': 28, 'score': 1.0}\n",
      "{'noun': '때', 'frequency': 27, 'score': 1.0}\n",
      "{'noun': '동물들', 'frequency': 25, 'score': 0.8181818181818182}\n",
      "{'noun': '안', 'frequency': 25, 'score': 1.0}\n",
      "{'noun': '시간', 'frequency': 24, 'score': 1.0}\n",
      "{'noun': '좋아', 'frequency': 24, 'score': 1.0}\n",
      "{'noun': '거', 'frequency': 23, 'score': 0.5}\n",
      "{'noun': '코로나', 'frequency': 22, 'score': 1.0}\n",
      "{'noun': '오월드', 'frequency': 19, 'score': 1.0}\n",
      "{'noun': '가족', 'frequency': 18, 'score': 1.0}\n",
      "{'noun': '아이', 'frequency': 16, 'score': 1.0}\n",
      "----------------------------------------------------------------------------------------------------\n",
      "== extractor: NewsNounExtractor\n",
      "before postprocessing 461\n",
      "_noun_scores_ 126\n",
      "after postprocessing 75\n",
      "{'noun': '동물', 'frequency': 134, 'score': 0.661858711111111}\n",
      "{'noun': '아이', 'frequency': 83, 'score': 0.888832619047619}\n",
      "{'noun': '놀이', 'frequency': 79, 'score': 0.6311624}\n",
      "{'noun': '아이들', 'frequency': 59, 'score': 0.9431869361702129}\n",
      "{'noun': '놀이기구', 'frequency': 50, 'score': 0.5038004444444445}\n",
      "{'noun': '동물들', 'frequency': 42, 'score': 0.7596927407407408}\n",
      "{'noun': '대전', 'frequency': 34, 'score': 0.6999128333333334}\n",
      "{'noun': '사람', 'frequency': 31, 'score': 0.8774649999999999}\n",
      "{'noun': '시간', 'frequency': 27, 'score': 0.9052839090909092}\n",
      "{'noun': '가족', 'frequency': 26, 'score': 0.424965}\n",
      "{'noun': '재미', 'frequency': 24, 'score': 0.5533896923076923}\n",
      "{'noun': '코로나', 'frequency': 22, 'score': 0.9759029}\n",
      "{'noun': '애들', 'frequency': 18, 'score': 0.8754376153846154}\n",
      "{'noun': '입장', 'frequency': 17, 'score': 0.9757125}\n",
      "{'noun': '놀기', 'frequency': 15, 'score': 0.9997330000000001}\n",
      "{'noun': '장소', 'frequency': 15, 'score': 0.99842225}\n",
      "{'noun': '버드랜드', 'frequency': 14, 'score': 0.6258893}\n",
      "{'noun': '아기', 'frequency': 12, 'score': 0.8887029999999999}\n",
      "{'noun': '놀이동산', 'frequency': 12, 'score': 0.678056}\n",
      "{'noun': '최고', 'frequency': 12, 'score': 0.9998249999999999}\n",
      "----------------------------------------------------------------------------------------------------\n"
     ]
    }
   ],
   "source": [
    "for noun_ext_name, noun_ext in noun_extractor_dict.items():\n",
    "    # train\n",
    "    noun_ext.train(test_list)\n",
    "    print(f\"== extractor: {noun_ext_name}\")\n",
    "    # noun을 빈도 내림차순으로 정렬하여 리턴\n",
    "    noun_lst = get_noun_sorted_by_frequency(noun_ext)\n",
    "    for noun in noun_lst[:20]:\n",
    "        print(noun)\n",
    "    print(\"--\" * 50)"
   ]
  },
  {
   "cell_type": "markdown",
   "id": "b9ca402d",
   "metadata": {},
   "source": [
    "👉 NewsNounExtractor가 명사 중심으로 추출을 잘해내는 것을 확인했으므로 해당 명사추출기를 사용합니다."
   ]
  },
  {
   "cell_type": "code",
   "execution_count": 25,
   "id": "b7772c03",
   "metadata": {
    "scrolled": false
   },
   "outputs": [
    {
     "name": "stdout",
     "output_type": "stream",
     "text": [
      "동물\n",
      "아이\n",
      "놀이\n",
      "아이들\n",
      "놀이기구\n",
      "동물들\n",
      "대전\n",
      "사람\n",
      "시간\n",
      "가족\n",
      "재미\n",
      "코로나\n",
      "애들\n",
      "입장\n",
      "놀기\n",
      "장소\n",
      "버드랜드\n",
      "아기\n",
      "놀이동산\n",
      "최고\n",
      "나들이\n",
      "거리\n",
      "날씨\n",
      "함께\n",
      "생각\n",
      "오래\n",
      "어린이\n",
      "관리\n",
      "플라워랜드\n",
      "입장료\n",
      "정도\n",
      "주말\n",
      "추억\n",
      "자유\n",
      "하루\n",
      "가격\n",
      "볼거리\n",
      "마음\n",
      "회권\n",
      "오랜만\n",
      "에버랜드\n",
      "규모\n",
      "유모차\n",
      "사람들\n",
      "식물\n",
      "튤립\n",
      "아동\n",
      "개장\n",
      "어린이들\n",
      "랜드\n",
      "입장권\n",
      "유아\n",
      "느낌\n",
      "아름\n",
      "아들\n",
      "기대\n",
      "가족들\n",
      "어른들\n",
      "호랑\n",
      "실내\n",
      "벚꽃\n",
      "코스\n",
      "평일이라\n",
      "자유이용권\n",
      "최적\n",
      "대기시간\n",
      "동반\n",
      "기분\n",
      "이야기\n",
      "움직\n",
      "모습\n",
      "직들\n",
      "저학년\n",
      "겨울\n",
      "단점\n",
      "--------------------\n",
      "검색 관광지명인 oworld_zoo가 0번 언급됐습니다.\n"
     ]
    }
   ],
   "source": [
    "for noun_dict in noun_lst:\n",
    "    target_freq = 0\n",
    "    if target in noun_dict['noun']:\n",
    "        target_freq = noun_dict.get('frequency')\n",
    "        continue\n",
    "    print(noun_dict.get('noun'))\n",
    "print('-'*20)\n",
    "print(f'검색 관광지명인 {target}가 {target_freq}번 언급됐습니다.')"
   ]
  },
  {
   "cell_type": "code",
   "execution_count": 26,
   "id": "fc9c0e35",
   "metadata": {
    "scrolled": true
   },
   "outputs": [
    {
     "name": "stdout",
     "output_type": "stream",
     "text": [
      "before postprocessing 461\n",
      "_noun_scores_ 126\n",
      "after postprocessing 75\n"
     ]
    }
   ],
   "source": [
    "noun_ext = noun_extractor_dict[\"NewsNounExtractor\"]\n",
    "noun_lst = get_noun_sorted_by_frequency(noun_ext)\n",
    "\n",
    "data_list = []\n",
    "for noun_dict in noun_lst:\n",
    "    noun = noun_dict.get('noun')\n",
    "    freq = noun_dict.get('frequency')\n",
    "    score = noun_dict.get('score')\n",
    "    data_list.append([target, noun, freq, score])"
   ]
  },
  {
   "cell_type": "code",
   "execution_count": 27,
   "id": "601434f2",
   "metadata": {},
   "outputs": [
    {
     "data": {
      "text/plain": [
       "dict_keys(['noun', 'frequency', 'score'])"
      ]
     },
     "execution_count": 27,
     "metadata": {},
     "output_type": "execute_result"
    }
   ],
   "source": [
    "noun_dict.keys()"
   ]
  },
  {
   "cell_type": "code",
   "execution_count": 28,
   "id": "7d7e6717",
   "metadata": {
    "scrolled": false
   },
   "outputs": [
    {
     "data": {
      "text/html": [
       "<div>\n",
       "<style scoped>\n",
       "    .dataframe tbody tr th:only-of-type {\n",
       "        vertical-align: middle;\n",
       "    }\n",
       "\n",
       "    .dataframe tbody tr th {\n",
       "        vertical-align: top;\n",
       "    }\n",
       "\n",
       "    .dataframe thead th {\n",
       "        text-align: right;\n",
       "    }\n",
       "</style>\n",
       "<table border=\"1\" class=\"dataframe\">\n",
       "  <thead>\n",
       "    <tr style=\"text-align: right;\">\n",
       "      <th></th>\n",
       "      <th>target</th>\n",
       "      <th>noun</th>\n",
       "      <th>frequency</th>\n",
       "      <th>score</th>\n",
       "    </tr>\n",
       "  </thead>\n",
       "  <tbody>\n",
       "    <tr>\n",
       "      <th>0</th>\n",
       "      <td>oworld_zoo</td>\n",
       "      <td>동물</td>\n",
       "      <td>134</td>\n",
       "      <td>0.661859</td>\n",
       "    </tr>\n",
       "    <tr>\n",
       "      <th>1</th>\n",
       "      <td>oworld_zoo</td>\n",
       "      <td>아이</td>\n",
       "      <td>83</td>\n",
       "      <td>0.888833</td>\n",
       "    </tr>\n",
       "    <tr>\n",
       "      <th>2</th>\n",
       "      <td>oworld_zoo</td>\n",
       "      <td>놀이</td>\n",
       "      <td>79</td>\n",
       "      <td>0.631162</td>\n",
       "    </tr>\n",
       "    <tr>\n",
       "      <th>3</th>\n",
       "      <td>oworld_zoo</td>\n",
       "      <td>아이들</td>\n",
       "      <td>59</td>\n",
       "      <td>0.943187</td>\n",
       "    </tr>\n",
       "    <tr>\n",
       "      <th>4</th>\n",
       "      <td>oworld_zoo</td>\n",
       "      <td>놀이기구</td>\n",
       "      <td>50</td>\n",
       "      <td>0.503800</td>\n",
       "    </tr>\n",
       "    <tr>\n",
       "      <th>...</th>\n",
       "      <td>...</td>\n",
       "      <td>...</td>\n",
       "      <td>...</td>\n",
       "      <td>...</td>\n",
       "    </tr>\n",
       "    <tr>\n",
       "      <th>70</th>\n",
       "      <td>oworld_zoo</td>\n",
       "      <td>모습</td>\n",
       "      <td>3</td>\n",
       "      <td>0.834607</td>\n",
       "    </tr>\n",
       "    <tr>\n",
       "      <th>71</th>\n",
       "      <td>oworld_zoo</td>\n",
       "      <td>직들</td>\n",
       "      <td>3</td>\n",
       "      <td>0.999185</td>\n",
       "    </tr>\n",
       "    <tr>\n",
       "      <th>72</th>\n",
       "      <td>oworld_zoo</td>\n",
       "      <td>저학년</td>\n",
       "      <td>3</td>\n",
       "      <td>0.999805</td>\n",
       "    </tr>\n",
       "    <tr>\n",
       "      <th>73</th>\n",
       "      <td>oworld_zoo</td>\n",
       "      <td>겨울</td>\n",
       "      <td>3</td>\n",
       "      <td>1.000000</td>\n",
       "    </tr>\n",
       "    <tr>\n",
       "      <th>74</th>\n",
       "      <td>oworld_zoo</td>\n",
       "      <td>단점</td>\n",
       "      <td>3</td>\n",
       "      <td>1.000000</td>\n",
       "    </tr>\n",
       "  </tbody>\n",
       "</table>\n",
       "<p>75 rows × 4 columns</p>\n",
       "</div>"
      ],
      "text/plain": [
       "        target  noun  frequency     score\n",
       "0   oworld_zoo    동물        134  0.661859\n",
       "1   oworld_zoo    아이         83  0.888833\n",
       "2   oworld_zoo    놀이         79  0.631162\n",
       "3   oworld_zoo   아이들         59  0.943187\n",
       "4   oworld_zoo  놀이기구         50  0.503800\n",
       "..         ...   ...        ...       ...\n",
       "70  oworld_zoo    모습          3  0.834607\n",
       "71  oworld_zoo    직들          3  0.999185\n",
       "72  oworld_zoo   저학년          3  0.999805\n",
       "73  oworld_zoo    겨울          3  1.000000\n",
       "74  oworld_zoo    단점          3  1.000000\n",
       "\n",
       "[75 rows x 4 columns]"
      ]
     },
     "execution_count": 28,
     "metadata": {},
     "output_type": "execute_result"
    }
   ],
   "source": [
    "pd.DataFrame(data=data_list, columns=['target']+list(noun_dict.keys()))"
   ]
  },
  {
   "cell_type": "markdown",
   "id": "4cd80aed",
   "metadata": {},
   "source": [
    "### 전체 Set에 적용 후 저장"
   ]
  },
  {
   "cell_type": "code",
   "execution_count": 29,
   "id": "3634ce5a",
   "metadata": {},
   "outputs": [
    {
     "data": {
      "text/plain": [
       "{'jangtae_mountain': '장태산',\n",
       " 'gyejok_mountain': '계족산',\n",
       " 'dongchundang': '동춘당',\n",
       " 'uineungjeongi_street': '으능정이문화의거리',\n",
       " 'ppuri_park': '뿌리공원',\n",
       " 'expo_science_park': '엑스포',\n",
       " 'sungsimdang_bakery': '성심당',\n",
       " 'water_barrel': '수통골',\n",
       " 'yuseong_hotspring': '유성온천',\n",
       " 'hanbat_arboretum': '한밭수목원',\n",
       " 'science_museum': '국립중앙과학관',\n",
       " 'daecheong_lake': '대청호',\n",
       " 'art_culture_complex': '대전문화예술단지',\n",
       " 'observatory': '시민천문대',\n",
       " 'oworld_zoo': '오월드'}"
      ]
     },
     "execution_count": 29,
     "metadata": {},
     "output_type": "execute_result"
    }
   ],
   "source": [
    "keywords"
   ]
  },
  {
   "cell_type": "code",
   "execution_count": 35,
   "id": "a73fd365",
   "metadata": {},
   "outputs": [
    {
     "data": {
      "text/plain": [
       "'/home/aiffel-dj19/jungcheck/EDA/frequency/'"
      ]
     },
     "execution_count": 35,
     "metadata": {},
     "output_type": "execute_result"
    }
   ],
   "source": [
    "save_path = os.path.join(os.getcwd(), 'frequency/')\n",
    "save_path"
   ]
  },
  {
   "cell_type": "code",
   "execution_count": 36,
   "id": "901a9f52",
   "metadata": {
    "scrolled": false
   },
   "outputs": [
    {
     "name": "stdout",
     "output_type": "stream",
     "text": [
      "before postprocessing 460\n",
      "_noun_scores_ 145\n",
      "after postprocessing 83\n",
      "before postprocessing 464\n",
      "_noun_scores_ 154\n",
      "after postprocessing 97\n",
      "before postprocessing 220\n",
      "_noun_scores_ 89\n",
      "after postprocessing 58\n",
      "before postprocessing 247\n",
      "_noun_scores_ 86\n",
      "after postprocessing 53\n",
      "before postprocessing 374\n",
      "_noun_scores_ 130\n",
      "after postprocessing 81\n",
      "before postprocessing 625\n",
      "_noun_scores_ 189\n",
      "after postprocessing 114\n",
      "before postprocessing 1746\n",
      "_noun_scores_ 463\n",
      "after postprocessing 255\n",
      "before postprocessing 537\n",
      "_noun_scores_ 173\n",
      "after postprocessing 111\n",
      "before postprocessing 365\n",
      "_noun_scores_ 110\n",
      "after postprocessing 63\n",
      "before postprocessing 367\n",
      "_noun_scores_ 140\n",
      "after postprocessing 83\n",
      "before postprocessing 345\n",
      "_noun_scores_ 102\n",
      "after postprocessing 69\n",
      "before postprocessing 356\n",
      "_noun_scores_ 125\n",
      "after postprocessing 78\n",
      "before postprocessing 785\n",
      "_noun_scores_ 251\n",
      "after postprocessing 152\n",
      "before postprocessing 17\n",
      "_noun_scores_ 8\n",
      "after postprocessing 5\n",
      "before postprocessing 461\n",
      "_noun_scores_ 126\n",
      "after postprocessing 76\n"
     ]
    }
   ],
   "source": [
    "noun_ext = noun_extractor_dict[\"NewsNounExtractor\"]\n",
    "\n",
    "for key_en, _ in keywords.items():\n",
    "    noun_ext.train(filtered_df[filtered_df['keyword']==key_en]['comment'])\n",
    "    noun_lst = get_noun_sorted_by_frequency(noun_ext)\n",
    "    data_list = []\n",
    "    for noun_dict in noun_lst:\n",
    "        noun = noun_dict.get('noun')\n",
    "        freq = noun_dict.get('frequency')\n",
    "        score = noun_dict.get('score')\n",
    "        data_list.append([key_en, noun, freq, score])\n",
    "        df = pd.DataFrame(data=data_list, columns=['keyword']+list(noun_dict.keys()))\n",
    "        df.to_csv(save_path + key_en + '.csv', header=True, index=False)"
   ]
  },
  {
   "cell_type": "markdown",
   "id": "be28bcc0",
   "metadata": {},
   "source": [
    "👉 명사 추출기를 썼음에도 좋아요와 같은 동사가 남는 현상이 있었습니다.    \n",
    "먼저, Mecab의 품사태깅을 활용해 한번더 명사를 정제해줬습니다. "
   ]
  },
  {
   "cell_type": "markdown",
   "id": "cbb72c2d",
   "metadata": {},
   "source": [
    "### 데이터 다시 정제 후 품사태깅"
   ]
  },
  {
   "cell_type": "code",
   "execution_count": 51,
   "id": "6d543352",
   "metadata": {},
   "outputs": [
    {
     "data": {
      "text/plain": [
       "'가버운 등 산하기 좋은 곳 황톳길 느낌 굿'"
      ]
     },
     "execution_count": 51,
     "metadata": {},
     "output_type": "execute_result"
    }
   ],
   "source": [
    "test = filtered_df['comment'].iloc[0]\n",
    "test"
   ]
  },
  {
   "cell_type": "code",
   "execution_count": 41,
   "id": "d4cfc796",
   "metadata": {},
   "outputs": [
    {
     "name": "stdout",
     "output_type": "stream",
     "text": [
      "[('가버', 'NNP'), ('운', 'NNG'), ('등', 'NNB'), ('산', 'NNG'), ('하', 'XSV'), ('기', 'ETN'), ('좋', 'VA'), ('은', 'ETM'), ('곳', 'NNG'), ('황톳길', 'NNG'), ('느낌', 'MAG'), ('굿', 'NNG')]\n"
     ]
    }
   ],
   "source": [
    "from konlpy.tag import Kkma, Hannanum, Komoran, Mecab, Twitter\n",
    "\n",
    "mecab = Mecab()\n",
    "\n",
    "## 전체 품사 태깅\n",
    "speech_pos = mecab.pos(filtered_df['comment'].iloc[0])\n",
    "print(speech_pos)"
   ]
  },
  {
   "cell_type": "markdown",
   "id": "868769cf",
   "metadata": {},
   "source": [
    "👉 Mecab으로 하더라도 문장의 띄어쓰기 문제가 해결되지 않은 경우에는 품사태깅이 잘 이뤄지지 않음을 알 수 있습니다. 데이터 정제 방법을 고민했을 때 구글 검색에서 검색어를 정제해주는 기능을 활용하기 위해 셀레니움을 통해 읽어오는 방향을 시도해볼까 고민중.. "
   ]
  },
  {
   "attachments": {},
   "cell_type": "markdown",
   "id": "e9c1408d",
   "metadata": {},
   "source": [
    "![image](https://user-images.githubusercontent.com/69677950/120032454-2a469300-c035-11eb-99f2-4677f7d365e7.png)"
   ]
  }
 ],
 "metadata": {
  "kernelspec": {
   "display_name": "aiffel",
   "language": "python",
   "name": "aiffel"
  },
  "language_info": {
   "codemirror_mode": {
    "name": "ipython",
    "version": 3
   },
   "file_extension": ".py",
   "mimetype": "text/x-python",
   "name": "python",
   "nbconvert_exporter": "python",
   "pygments_lexer": "ipython3",
   "version": "3.7.10"
  },
  "toc": {
   "base_numbering": 1,
   "nav_menu": {},
   "number_sections": true,
   "sideBar": true,
   "skip_h1_title": false,
   "title_cell": "Table of Contents",
   "title_sidebar": "Contents",
   "toc_cell": false,
   "toc_position": {},
   "toc_section_display": true,
   "toc_window_display": true
  }
 },
 "nbformat": 4,
 "nbformat_minor": 5
}
