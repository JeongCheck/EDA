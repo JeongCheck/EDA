{
 "cells": [
  {
   "cell_type": "markdown",
   "id": "81604a71",
   "metadata": {},
   "source": [
    "# Google Review에서 동반자 유형 빈도수 추출 코드 \n",
    "\n",
    "* 구글 리뷰 데이터셋 파일들(각 관광지별로 저장된 15개의 파일들)이 있는 폴더를 타겟으로 지정한다. \n",
    "* 동반자 유형 사전을 만든다. \n",
    "* 구글 리뷰에 대해 특정 조사로 끝나는 단어들만 정제한다. \n",
    "* 품사 태깅을 진행하여 명사와 조사를 추출한다. \n",
    "* 명사가 동반자 유형 사전에 해당하는지 확인후 카운팅 한다. \n",
    "* 빈도수가 높은 순서대로 동반자 유형을 출력한다. \n",
    "* 해당 과정을 각 관광지별로 진행하고, 이후 전체 관광지 15개를 대상으로도 진행한다. \n",
    "\n",
    "## googleReviewComparison 코드 문제점 \n",
    "\n",
    "* 추출된 키워드를 확인했을때 동반자 유형이라 볼 수 없는 경우도 카운팅 된다. \n",
    "    - Komoran과 Kahiii를 성능 확인 후 Kahiii를 Stemming에 적용하여 동사 원형 사전을 추가해 방문과 직접적인 관련이 있는 동사가 포함된 문장만 동반자 유형 빈도수 카운팅에 반영한다.\n",
    "* 추출된 키워드 개수를 셀 때 같은 key를 가진 경우가 여러번 카운팅되는 문제점이 있다. \n",
    "    - Set을 통해 중복으로 나타난 key를 정제한다. "
   ]
  },
  {
   "cell_type": "markdown",
   "id": "19f7215d",
   "metadata": {},
   "source": [
    "## 타겟 파일 설정"
   ]
  },
  {
   "cell_type": "code",
   "execution_count": 1,
   "id": "431bd226",
   "metadata": {},
   "outputs": [],
   "source": [
    "target = 'labeled_spellcheck_8420'"
   ]
  },
  {
   "cell_type": "markdown",
   "id": "abd7015e",
   "metadata": {},
   "source": [
    "## 사용 라이브러리 "
   ]
  },
  {
   "cell_type": "code",
   "execution_count": 2,
   "id": "06e7a0e5",
   "metadata": {},
   "outputs": [],
   "source": [
    "import os # file path \n",
    "import glob # file path \n",
    "from tqdm import tqdm # execution time\n",
    "import re # regex\n",
    "import pandas as pd # dataframe\n",
    "import copy # deep copy\n",
    "\n",
    "from collections import Counter\n",
    "from ckonlpy.tag import Twitter\n",
    "from ckonlpy.tag import Postprocessor"
   ]
  },
  {
   "cell_type": "code",
   "execution_count": 3,
   "id": "47dd4bd8",
   "metadata": {},
   "outputs": [],
   "source": [
    "import warnings\n",
    "\n",
    "warnings.filterwarnings( 'ignore' )"
   ]
  },
  {
   "cell_type": "markdown",
   "id": "2347dd24",
   "metadata": {},
   "source": [
    "## 경로 설정"
   ]
  },
  {
   "cell_type": "code",
   "execution_count": 4,
   "id": "c583ea4e",
   "metadata": {
    "scrolled": false
   },
   "outputs": [
    {
     "name": "stdout",
     "output_type": "stream",
     "text": [
      "\u001b[01;34m/home/aiffel-dj19/jungcheck/DataPreprocessing/filtered/google_review/labeled_spellcheck_8420\u001b[00m\r\n",
      "├── google_reviews_art_culture_complex.csv\r\n",
      "├── google_reviews_daecheong_lake.csv\r\n",
      "├── google_reviews_dongchundang.csv\r\n",
      "├── google_reviews_expo_science_park.csv\r\n",
      "├── google_reviews_gyejok_mountain.csv\r\n",
      "├── google_reviews_hanbat_arboretum.csv\r\n",
      "├── google_reviews_jangtae_mountain.csv\r\n",
      "├── google_reviews_observatory.csv\r\n",
      "├── google_reviews_oworld_zoo.csv\r\n",
      "├── google_reviews_ppuri_park.csv\r\n",
      "├── google_reviews_science_museum.csv\r\n",
      "├── google_reviews_sungsimdang_bakery.csv\r\n",
      "├── google_reviews_uineungjeongi_street.csv\r\n",
      "├── google_reviews_water_barrel.csv\r\n",
      "└── google_reviews_yuseong_hotspring.csv\r\n",
      "\r\n",
      "0 directories, 15 files\r\n"
     ]
    }
   ],
   "source": [
    "!tree -L 3 -N /home/aiffel-dj19/jungcheck/DataPreprocessing/filtered/google_review/labeled_spellcheck_8420 # jungcheck 폴더내 filtered(전처리 후)의 파일트리 확인"
   ]
  },
  {
   "cell_type": "code",
   "execution_count": 5,
   "id": "b16242e2",
   "metadata": {},
   "outputs": [
    {
     "name": "stdout",
     "output_type": "stream",
     "text": [
      "/home/aiffel-dj19/jungcheck/EDA\r\n"
     ]
    }
   ],
   "source": [
    "!pwd"
   ]
  },
  {
   "cell_type": "code",
   "execution_count": 6,
   "id": "4d635eba",
   "metadata": {},
   "outputs": [],
   "source": [
    "g_data_path = '/home/aiffel-dj19/jungcheck/DataPreprocessing'"
   ]
  },
  {
   "cell_type": "code",
   "execution_count": 7,
   "id": "8c776243",
   "metadata": {},
   "outputs": [
    {
     "data": {
      "text/plain": [
       "'/home/aiffel-dj19/jungcheck/DataPreprocessing/filtered/google_review/'"
      ]
     },
     "execution_count": 7,
     "metadata": {},
     "output_type": "execute_result"
    }
   ],
   "source": [
    "filtered_path = os.path.join(g_data_path, 'filtered/google_review/')\n",
    "filtered_path"
   ]
  },
  {
   "cell_type": "code",
   "execution_count": 8,
   "id": "e5b8d26a",
   "metadata": {},
   "outputs": [
    {
     "name": "stdout",
     "output_type": "stream",
     "text": [
      "/home/aiffel-dj19/jungcheck/DataPreprocessing/filtered/google_review/내의 파일 개수: 10개\n",
      "\n",
      "['google_reviews_spacing_8421.csv', 'labeled_spacing_8421', 'spacing_8421', 'google_reviews_labeled_spellcheck_8420.csv', 'labeled_spellcheck_8420', 'spacing_spellcheck_8420', 'spellcheck_8420', 'google_reviews_nolabel_8429.csv', 'google_reviews_labeled_spacing_8421.csv', 'google_reviews_labeled_8429.csv']\n"
     ]
    }
   ],
   "source": [
    "filtered_fds = os.listdir(filtered_path) # fds: 'folders'\n",
    "print(f'{filtered_path}내의 파일 개수: {len(filtered_fds)}개') \n",
    "print()\n",
    "print(filtered_fds)"
   ]
  },
  {
   "cell_type": "code",
   "execution_count": 9,
   "id": "24994a24",
   "metadata": {
    "scrolled": false
   },
   "outputs": [
    {
     "name": "stdout",
     "output_type": "stream",
     "text": [
      "영어 keyword => 한국어 keyword\n",
      "{'jangtae_mountain': '장태산', 'gyejok_mountain': '계족산', 'dongchundang': '동춘당', 'uineungjeongi_street': '으느정이문화의거리', 'ppuri_park': '뿌리공원', 'expo_science_park': '엑스포', 'sungsimdang_bakery': '성심당', 'water_barrel': '수통골', 'yuseong_hotspring': '유성온천', 'hanbat_arboretum': '한밭수목원', 'science_museum': '국립중앙과학관', 'daecheong_lake': '대청호', 'art_culture_complex': '대전문화예술단지', 'observatory': '시민천문대', 'oworld_zoo': '오월드'}\n",
      "\n",
      "한국어 keyword => 영어 keyword\n",
      "{'장태산': 'jangtae_mountain', '계족산': 'gyejok_mountain', '동춘당': 'dongchundang', '으느정이문화의거리': 'uineungjeongi_street', '뿌리공원': 'ppuri_park', '엑스포': 'expo_science_park', '성심당': 'sungsimdang_bakery', '수통골': 'water_barrel', '유성온천': 'yuseong_hotspring', '한밭수목원': 'hanbat_arboretum', '국립중앙과학관': 'science_museum', '대청호': 'daecheong_lake', '대전문화예술단지': 'art_culture_complex', '시민천문대': 'observatory', '오월드': 'oworld_zoo'}\n"
     ]
    }
   ],
   "source": [
    "# english keyword to korean keyword\n",
    "eng2kor = {\n",
    "            'jangtae_mountain': '장태산',\n",
    "             'gyejok_mountain': '계족산',\n",
    "             'dongchundang': '동춘당',\n",
    "             'uineungjeongi_street': '으느정이문화의거리',\n",
    "             'ppuri_park': '뿌리공원',\n",
    "             'expo_science_park': '엑스포',\n",
    "             'sungsimdang_bakery': '성심당',\n",
    "             'water_barrel': '수통골',\n",
    "             'yuseong_hotspring': '유성온천',\n",
    "             'hanbat_arboretum': '한밭수목원',\n",
    "             'science_museum': '국립중앙과학관',\n",
    "             'daecheong_lake': '대청호',\n",
    "             'art_culture_complex': '대전문화예술단지',\n",
    "             'observatory': '시민천문대',\n",
    "             'oworld_zoo': '오월드'\n",
    "}\n",
    "\n",
    "# korean keyword to english keyword\n",
    "kor2eng = {v:k for k, v in eng2kor.items()}\n",
    "\n",
    "print('영어 keyword => 한국어 keyword')\n",
    "print(eng2kor)\n",
    "print()\n",
    "print('한국어 keyword => 영어 keyword')\n",
    "print(kor2eng)"
   ]
  },
  {
   "cell_type": "markdown",
   "id": "928bfbb7",
   "metadata": {},
   "source": [
    "## 대상 파일 설정"
   ]
  },
  {
   "cell_type": "code",
   "execution_count": 10,
   "id": "6bb89b1f",
   "metadata": {},
   "outputs": [],
   "source": [
    "def concatCsv(data_type:str, keyword_kor='계족산'):\n",
    "    '''\n",
    "    정제 전 폴더 data와 정제 후 폴더 filtered간의 파일 구성이 따르기 때문에 \n",
    "    주어진 폴더명에 따라 dataframe을 합해주는 함수\n",
    "    '''\n",
    "\n",
    "    if data_type == 'data':\n",
    "        keyword_path = data_type + '/google_review/' + keyword_kor\n",
    "        folder_path = os.path.join(g_data_path, keyword_path)\n",
    "        print(f'folder name: {folder_path}')\n",
    "        print(f'..: {os.listdir(folder_path)}')\n",
    "        \n",
    "        data_list = []\n",
    "        for file in os.listdir(folder_path):\n",
    "            file_path = os.path.join(folder_path, file)\n",
    "            print(f'file path: {file_path}')\n",
    "\n",
    "            df = pd.read_csv(file_path, encoding='utf-8') \n",
    "            search = file.split('.')[0]  # 파일명에서 파일형식(.csv) 제외 후, 검색어 추출             \n",
    "            df['search'] = search\n",
    "            df['keyword'] = kor2eng[keyword_kor] \n",
    "            data_list.append(df)\n",
    "            print(f'해당 파일의 데이터 개수: {len(df)}')\n",
    "            print()\n",
    "        df = pd.concat(data_list, axis=0)\n",
    "        print('-'*40)\n",
    "        \n",
    "    elif data_type == 'filtered':\n",
    "        folder_path = os.path.join(g_data_path, data_type + '/google_review/' + target)\n",
    "        print(f'folder name: {folder_path}')\n",
    "        \n",
    "        data_list = []    \n",
    "        for file in os.listdir(folder_path):\n",
    "            file_path = os.path.join(folder_path, file)\n",
    "            print(f'file path: {file_path}')\n",
    "\n",
    "            df = pd.read_csv(file_path, encoding='utf-8')  # csv 파일 읽기\n",
    "            print(f'해당 파일의 데이터 개수: {len(df)}')\n",
    "            print()\n",
    "            data_list.append(df)\n",
    "            print('-'*40)\n",
    "            \n",
    "        df = pd.concat(data_list, axis=0)\n",
    "        print(target, '총 데이터 개수: ', len(df))\n",
    "    return df"
   ]
  },
  {
   "cell_type": "markdown",
   "id": "c562189e",
   "metadata": {},
   "source": [
    "##  데이터 불러오기"
   ]
  },
  {
   "cell_type": "code",
   "execution_count": 11,
   "id": "45b8bd9f",
   "metadata": {
    "scrolled": false
   },
   "outputs": [
    {
     "name": "stdout",
     "output_type": "stream",
     "text": [
      "folder name: /home/aiffel-dj19/jungcheck/DataPreprocessing/filtered/google_review/labeled_spellcheck_8420\n",
      "file path: /home/aiffel-dj19/jungcheck/DataPreprocessing/filtered/google_review/labeled_spellcheck_8420/google_reviews_daecheong_lake.csv\n",
      "해당 파일의 데이터 개수: 491\n",
      "\n",
      "----------------------------------------\n",
      "file path: /home/aiffel-dj19/jungcheck/DataPreprocessing/filtered/google_review/labeled_spellcheck_8420/google_reviews_sungsimdang_bakery.csv\n",
      "해당 파일의 데이터 개수: 1863\n",
      "\n",
      "----------------------------------------\n",
      "file path: /home/aiffel-dj19/jungcheck/DataPreprocessing/filtered/google_review/labeled_spellcheck_8420/google_reviews_water_barrel.csv\n",
      "해당 파일의 데이터 개수: 685\n",
      "\n",
      "----------------------------------------\n",
      "file path: /home/aiffel-dj19/jungcheck/DataPreprocessing/filtered/google_review/labeled_spellcheck_8420/google_reviews_observatory.csv\n",
      "해당 파일의 데이터 개수: 26\n",
      "\n",
      "----------------------------------------\n",
      "file path: /home/aiffel-dj19/jungcheck/DataPreprocessing/filtered/google_review/labeled_spellcheck_8420/google_reviews_oworld_zoo.csv\n",
      "해당 파일의 데이터 개수: 446\n",
      "\n",
      "----------------------------------------\n",
      "file path: /home/aiffel-dj19/jungcheck/DataPreprocessing/filtered/google_review/labeled_spellcheck_8420/google_reviews_gyejok_mountain.csv\n",
      "해당 파일의 데이터 개수: 483\n",
      "\n",
      "----------------------------------------\n",
      "file path: /home/aiffel-dj19/jungcheck/DataPreprocessing/filtered/google_review/labeled_spellcheck_8420/google_reviews_ppuri_park.csv\n",
      "해당 파일의 데이터 개수: 426\n",
      "\n",
      "----------------------------------------\n",
      "file path: /home/aiffel-dj19/jungcheck/DataPreprocessing/filtered/google_review/labeled_spellcheck_8420/google_reviews_dongchundang.csv\n",
      "해당 파일의 데이터 개수: 329\n",
      "\n",
      "----------------------------------------\n",
      "file path: /home/aiffel-dj19/jungcheck/DataPreprocessing/filtered/google_review/labeled_spellcheck_8420/google_reviews_art_culture_complex.csv\n",
      "해당 파일의 데이터 개수: 823\n",
      "\n",
      "----------------------------------------\n",
      "file path: /home/aiffel-dj19/jungcheck/DataPreprocessing/filtered/google_review/labeled_spellcheck_8420/google_reviews_yuseong_hotspring.csv\n",
      "해당 파일의 데이터 개수: 431\n",
      "\n",
      "----------------------------------------\n",
      "file path: /home/aiffel-dj19/jungcheck/DataPreprocessing/filtered/google_review/labeled_spellcheck_8420/google_reviews_uineungjeongi_street.csv\n",
      "해당 파일의 데이터 개수: 333\n",
      "\n",
      "----------------------------------------\n",
      "file path: /home/aiffel-dj19/jungcheck/DataPreprocessing/filtered/google_review/labeled_spellcheck_8420/google_reviews_expo_science_park.csv\n",
      "해당 파일의 데이터 개수: 783\n",
      "\n",
      "----------------------------------------\n",
      "file path: /home/aiffel-dj19/jungcheck/DataPreprocessing/filtered/google_review/labeled_spellcheck_8420/google_reviews_hanbat_arboretum.csv\n",
      "해당 파일의 데이터 개수: 402\n",
      "\n",
      "----------------------------------------\n",
      "file path: /home/aiffel-dj19/jungcheck/DataPreprocessing/filtered/google_review/labeled_spellcheck_8420/google_reviews_jangtae_mountain.csv\n",
      "해당 파일의 데이터 개수: 518\n",
      "\n",
      "----------------------------------------\n",
      "file path: /home/aiffel-dj19/jungcheck/DataPreprocessing/filtered/google_review/labeled_spellcheck_8420/google_reviews_science_museum.csv\n",
      "해당 파일의 데이터 개수: 381\n",
      "\n",
      "----------------------------------------\n",
      "labeled_spellcheck_8420 총 데이터 개수:  8420\n"
     ]
    }
   ],
   "source": [
    "data_df = concatCsv('filtered', _)"
   ]
  },
  {
   "cell_type": "markdown",
   "id": "aebe1bda",
   "metadata": {},
   "source": [
    "## 동반자 유형 사전 만들기 "
   ]
  },
  {
   "cell_type": "code",
   "execution_count": 12,
   "id": "de5ca529",
   "metadata": {},
   "outputs": [],
   "source": [
    "companions = {\n",
    "    '가족친지': ['남매', '자매', '형제', '가족 여행', '가족여행', '아기', '여보', '아내', '남편', '가족', '친척', '사촌', '부모님', '시부모', '장인어른', '아버님', '어머님', '조카', '이모', '고모', '삼촌', '할아버지', '할머니', '친형', '친언니', '친누나', '친동생', '친오빠', '엄마', '아빠', '딸', '아들', '자식'],\n",
    "    '친구연인': ['동기', '후배', '우정 여행', '우정', '선배', '남자친구', '여자친구', '자기', '과동기', '찐친', '절친', '친구', '언니', '동생', '형', '오빠'],\n",
    "    '직장학교': ['학과', '학교','수학여행', '현장견학', '현장체험', '직장', '회사', '주임님', '회사동료', '사장님', '직장동료', '동료', '직장동기', '회사동기', '회사', '직장선배', '직장후배', '선임', '후임', '부장', '부장님', '차장님', '대리님'],\n",
    "    '단체': ['소풍', '단체'],\n",
    "    '개인': ['혼자', '홀로', '개인']\n",
    "}"
   ]
  },
  {
   "cell_type": "code",
   "execution_count": 13,
   "id": "0a9f646a",
   "metadata": {
    "scrolled": false
   },
   "outputs": [
    {
     "data": {
      "text/plain": [
       "dict_keys(['가족친지', '친구연인', '직장학교', '단체', '개인'])"
      ]
     },
     "execution_count": 13,
     "metadata": {},
     "output_type": "execute_result"
    }
   ],
   "source": [
    "companions.keys()"
   ]
  },
  {
   "cell_type": "code",
   "execution_count": 14,
   "id": "5387b337",
   "metadata": {},
   "outputs": [],
   "source": [
    "def dotAdd(sen):\n",
    "    if sen[-1] in ['다', '요', '죠', '오', '자']:\n",
    "        sen = sen + '.'\n",
    "    return sen"
   ]
  },
  {
   "cell_type": "markdown",
   "id": "87239971",
   "metadata": {},
   "source": [
    "## 품사 태깅을 위한 토크나이저 활용\n",
    "* customized konlpy 활용\n",
    "    - 장점: 커스텀된 단어의 품사를 추가할 수 있음 "
   ]
  },
  {
   "cell_type": "code",
   "execution_count": 15,
   "id": "b590fbfa",
   "metadata": {},
   "outputs": [],
   "source": [
    "tagger = Twitter()\n",
    "tagger.add_dictionary(['남매', '자매', '형제', '아기', '가족', '친척', '사촌', '부모님', '시부모', '장인어른', \n",
    "                       '아버님', '어머님', '조카', '이모', '고모', '삼촌', '할아버지', '할머니', '친형', '친언니', \n",
    "                       '친누나', '친동생', '친오빠', '엄마', '아빠', '딸', '아들', '자식',\n",
    "                      '동기', '후배', '선배', '남자친구', '여자친구', '자기', '과동기', '찐친', \n",
    "                       '절친', '친구', '언니', '동생', '형', '오빠',\n",
    "                      '직장', '회사', '주임님', '회사동료', '사장님', '직장동료', '직장동기', '회사동기', \n",
    "                       '회사', '직장선배', '직장후배', '선임', '후임', '부장', '부장님', '차장님', '대리님',\n",
    "                      '학과', '학교', '현장견학', '현장체험', '소풍', '수학여행', '주차장'], 'Noun')\n",
    "tagger.add_dictionary(['랑', '와', '이와', '하고', '과 같이', '와 같이', '을', '를', '은', '는', '이', '가', '와 함께', '과 함께'], 'Josa')"
   ]
  },
  {
   "cell_type": "code",
   "execution_count": 16,
   "id": "ad490cc2",
   "metadata": {},
   "outputs": [],
   "source": [
    "postprocessor = Postprocessor(\n",
    "    base_tagger = tagger, # base tagger\n",
    "#     stopwords = ['랑', '와', '이와', '하고', '과 같이', '와 같이', '을', '를', '은', '는', '이', '가', '와 함께', '과 함께'], # 해당 단어 필터\n",
    "#     passwords = passwords, # 해당 단어만 선택\n",
    "    passtags = {'Noun', 'Josa', 'Verb'}, # 해당 품사만 선택\n",
    "#     replace = replace, # 해당 단어 set 치환\n",
    "#     ngrams = ngrams # 해당 복합 단어 set을 한 단어로 결합\n",
    ")"
   ]
  },
  {
   "cell_type": "markdown",
   "id": "db3a04ac",
   "metadata": {},
   "source": [
    "## 품사태깅 테스트 "
   ]
  },
  {
   "cell_type": "code",
   "execution_count": 17,
   "id": "124da872",
   "metadata": {
    "scrolled": true
   },
   "outputs": [
    {
     "name": "stdout",
     "output_type": "stream",
     "text": [
      "아빠 Noun\n",
      "하고 Josa\n",
      "아빠 Noun\n",
      "의 Josa\n",
      "엄마 Noun\n",
      "랑 Josa\n",
      "주차장 Noun\n",
      "을 Josa\n",
      "차장님 Noun\n",
      "이랑 Josa\n",
      "혼자 Noun\n",
      "홀로 Noun\n",
      "차장 Noun\n",
      "이랑 Josa\n",
      "같이 Josa\n",
      "왔다 Verb\n",
      "갔다 Verb\n",
      "방문 Noun\n",
      "했다 Verb\n"
     ]
    }
   ],
   "source": [
    "for word, pos in postprocessor.pos('아빠하고 아빠의 엄마랑 주차장을 차장님이랑  혼자 홀로 차장이랑 같이 왔다 갔다 방문했다'):\n",
    "    print(word, pos)"
   ]
  },
  {
   "cell_type": "code",
   "execution_count": 18,
   "id": "5e89f8f1",
   "metadata": {
    "scrolled": true
   },
   "outputs": [
    {
     "data": {
      "text/plain": [
       "[('세', 'Noun'),\n",
       " ('이하', 'Noun'),\n",
       " ('아기', 'Noun'),\n",
       " ('랑', 'Josa'),\n",
       " ('가기', 'Noun'),\n",
       " ('넣', 'Verb'),\n",
       " ('무', 'Noun')]"
      ]
     },
     "execution_count": 18,
     "metadata": {},
     "output_type": "execute_result"
    }
   ],
   "source": [
    "postprocessor.pos(data_df['comment'].iloc[3123])"
   ]
  },
  {
   "cell_type": "code",
   "execution_count": 19,
   "id": "b13c3783",
   "metadata": {
    "scrolled": false
   },
   "outputs": [
    {
     "data": {
      "text/plain": [
       "False"
      ]
     },
     "execution_count": 19,
     "metadata": {},
     "output_type": "execute_result"
    }
   ],
   "source": [
    "'차장' == '주차장' # 주차장을 자꾸 차장으로 인식하는 오류 있음. 데이터 내에 차장과 관련된 데이터 없으므로 사전에서 제거 "
   ]
  },
  {
   "cell_type": "code",
   "execution_count": 20,
   "id": "df69b1d9",
   "metadata": {},
   "outputs": [],
   "source": [
    "from khaiii import KhaiiiApi"
   ]
  },
  {
   "cell_type": "code",
   "execution_count": 21,
   "id": "ab25058a",
   "metadata": {},
   "outputs": [],
   "source": [
    "api = KhaiiiApi()"
   ]
  },
  {
   "cell_type": "code",
   "execution_count": 22,
   "id": "1957309a",
   "metadata": {},
   "outputs": [
    {
     "data": {
      "text/plain": [
       "'5세 이하 아기랑 가기 넣무 좋아요'"
      ]
     },
     "execution_count": 22,
     "metadata": {},
     "output_type": "execute_result"
    }
   ],
   "source": [
    "test_sen = data_df['comment'].iloc[3123]\n",
    "data_df['comment'].iloc[3123]"
   ]
  },
  {
   "cell_type": "code",
   "execution_count": 23,
   "id": "276cc80a",
   "metadata": {},
   "outputs": [],
   "source": [
    "test_sen = '갔어요 갔다 갔고 가고 방문했고 방문하고 여행 갔고 오다 왔고 놀러 갔다 놀랐다 모시고 오다 시간을 보내다 곳이다'"
   ]
  },
  {
   "cell_type": "code",
   "execution_count": 24,
   "id": "386f462d",
   "metadata": {
    "scrolled": true
   },
   "outputs": [
    {
     "name": "stdout",
     "output_type": "stream",
     "text": [
      "{'가': 'VV', '았': 'EP', '어요': 'EC', '다': 'EC', '고': 'EC', '방문': 'NNG', '하': 'XSV', '였': 'EP', '여행': 'NNG', '오': 'VV', '놀': 'VV', '러': 'EC', '놀라': 'VV', '모시': 'VV', '시간': 'NNG', '을': 'JKO', '보내': 'VV', '곳': 'NNG', '이': 'VCP'}\n"
     ]
    }
   ],
   "source": [
    "morphs_dict = {}\n",
    "for word in api.analyze(test_sen):\n",
    "    for morph in word.morphs:\n",
    "        morphs_dict[morph.lex] = morph.tag\n",
    "#     print(word)\n",
    "print(morphs_dict)"
   ]
  },
  {
   "cell_type": "code",
   "execution_count": 25,
   "id": "496073ce",
   "metadata": {},
   "outputs": [],
   "source": [
    "from konlpy.tag import Komoran"
   ]
  },
  {
   "cell_type": "code",
   "execution_count": 26,
   "id": "c006efc9",
   "metadata": {},
   "outputs": [],
   "source": [
    "komoran = Komoran()"
   ]
  },
  {
   "cell_type": "code",
   "execution_count": 27,
   "id": "5de735ab",
   "metadata": {
    "scrolled": true
   },
   "outputs": [
    {
     "data": {
      "text/plain": [
       "[('가', 'VV'),\n",
       " ('았', 'EP'),\n",
       " ('어요', 'EC'),\n",
       " ('가', 'VV'),\n",
       " ('았', 'EP'),\n",
       " ('다', 'EC'),\n",
       " ('가', 'VV'),\n",
       " ('았', 'EP'),\n",
       " ('고', 'EC'),\n",
       " ('가', 'VV'),\n",
       " ('고', 'EC'),\n",
       " ('방문', 'NNG'),\n",
       " ('하', 'XSV'),\n",
       " ('았', 'EP'),\n",
       " ('고', 'EC'),\n",
       " ('방문', 'NNG'),\n",
       " ('하', 'XSV'),\n",
       " ('고', 'EC'),\n",
       " ('여행', 'NNG'),\n",
       " ('가', 'VV'),\n",
       " ('았', 'EP'),\n",
       " ('고', 'EC'),\n",
       " ('오', 'VV'),\n",
       " ('다', 'EC'),\n",
       " ('오', 'VX'),\n",
       " ('았', 'EP'),\n",
       " ('고', 'EC'),\n",
       " ('놀', 'VV'),\n",
       " ('러', 'EC'),\n",
       " ('가', 'VV'),\n",
       " ('았', 'EP'),\n",
       " ('다', 'EC'),\n",
       " ('놀라', 'VV'),\n",
       " ('았', 'EP'),\n",
       " ('다', 'EC'),\n",
       " ('모시', 'VV'),\n",
       " ('고', 'EC'),\n",
       " ('오다 시', 'NNP'),\n",
       " ('간', 'NNB'),\n",
       " ('을', 'JKO'),\n",
       " ('보내', 'VV'),\n",
       " ('다', 'EC'),\n",
       " ('곳', 'NNG'),\n",
       " ('이', 'VCP'),\n",
       " ('다', 'EC')]"
      ]
     },
     "execution_count": 27,
     "metadata": {},
     "output_type": "execute_result"
    }
   ],
   "source": [
    "komoran.pos(test_sen)"
   ]
  },
  {
   "cell_type": "markdown",
   "id": "12588b4f",
   "metadata": {},
   "source": [
    "=> Kahiii와 Komoran은 맞춤법이 지켜지지 않은 경우가 많은 데이터일 경우 성능이 좋은 토크나이저로 알려져 있습니다. 따라서 맞춤법 교정을 했음에도 구글 리뷰 특성상 오타가 있는 점을 감안하여, 해당 토크나이저 중 일반적으로 성능이 더 개선되어있다고 알려진 Kahiii를 적용했습니다."
   ]
  },
  {
   "cell_type": "markdown",
   "id": "97f4874e",
   "metadata": {},
   "source": [
    "## 데이터 중 하나로 테스트"
   ]
  },
  {
   "cell_type": "code",
   "execution_count": 28,
   "id": "7099722a",
   "metadata": {},
   "outputs": [
    {
     "name": "stdout",
     "output_type": "stream",
     "text": [
      "5세 이하 아기랑 가기 넣무 좋아요\n",
      "아기 => 아기\n"
     ]
    }
   ],
   "source": [
    "print(data_df['comment'].iloc[3123])\n",
    "for word, pos in postprocessor.pos(data_df['comment'].iloc[3123]):\n",
    "    for key, value in companions.items():\n",
    "    #     print(value)\n",
    "        for v in value: \n",
    "            if word == v:\n",
    "                print(word, '=>', v)"
   ]
  },
  {
   "cell_type": "markdown",
   "id": "2dc9d76b",
   "metadata": {},
   "source": [
    "## 각 관광지별로 동반자 유형 빈도수 추출 "
   ]
  },
  {
   "cell_type": "code",
   "execution_count": 29,
   "id": "5181857e",
   "metadata": {},
   "outputs": [],
   "source": [
    "import kss"
   ]
  },
  {
   "cell_type": "code",
   "execution_count": 30,
   "id": "248603ef",
   "metadata": {},
   "outputs": [
    {
     "data": {
      "text/plain": [
       "'아dkddk'"
      ]
     },
     "execution_count": 30,
     "metadata": {},
     "output_type": "execute_result"
    }
   ],
   "source": [
    "test = '아'\n",
    "test_lst = test + 'dkddk'\n",
    "test_lst"
   ]
  },
  {
   "cell_type": "code",
   "execution_count": 31,
   "id": "a067b2b3",
   "metadata": {},
   "outputs": [
    {
     "data": {
      "text/plain": [
       "[('확인', 'Noun'), ('해', 'Josa'), ('보자', 'Verb')]"
      ]
     },
     "execution_count": 31,
     "metadata": {},
     "output_type": "execute_result"
    }
   ],
   "source": [
    "[(word, pos) for word, pos in postprocessor.pos('확인해보자')]"
   ]
  },
  {
   "cell_type": "code",
   "execution_count": 38,
   "id": "576bfc8f",
   "metadata": {},
   "outputs": [],
   "source": [
    "def runAll(keyword):\n",
    "    # 특정 관광지명을 대상으로 분석 \n",
    "#     keyword = 'jangtae_mountain'\n",
    "    test_df = data_df[data_df['keyword'] == keyword]\n",
    "    test_list = test_df['comment']\n",
    "\n",
    "    # 각 문장에 마침표 추가 후 한 문단으로 모든 문장을 합해준다. \n",
    "    test_list = list(map(dotAdd, test_list))\n",
    "    test_list = ' '.join(test_list)\n",
    "    sen_list = kss.split_sentences(test_list)\n",
    "    \n",
    "    josa_sen_list = []\n",
    "    for sen in sen_list:        \n",
    "        word_list = [(word, pos) for word, pos in postprocessor.pos(sen)]\n",
    "        josa = ['랑', '을', '를', '은', '는', '이', '가', '와', '이와', '하고', '과 같이', '와 같이', '와 함께', '과 함께']\n",
    "        isJosa = 0\n",
    "        for word, pos in word_list:\n",
    "#             print(word)\n",
    "            if word in josa:\n",
    "                isJosa = 1\n",
    "\n",
    "        if isJosa == 1:\n",
    "            josa_sen_list.append(sen)\n",
    "#     print(josa_sen_list)\n",
    "        \n",
    "    # 방문자 유형을 확인할 수 있는 동사 리스트 \n",
    "    # dict = lex:tag\n",
    "    verb_dict = {'가':'VV', '놀':'VV', '오':'VV', '여행':'NNG', '방문':'NNG', '장소':'NNG', '곳':'NNG',\n",
    "                 '모시':'VV', '보내':'VV'}\n",
    "    verb_sen_list = []\n",
    "    for sen in josa_sen_list:\n",
    "        if len(sen) < 1: \n",
    "            continue\n",
    "        else: \n",
    "            for word in api.analyze(sen):\n",
    "                isVerb = 0\n",
    "                for morph in word.morphs:\n",
    "                    try: \n",
    "                        if morph.tag == verb_dict[morph.lex]:\n",
    "                            isVerb = 1\n",
    "                        else:\n",
    "                            continue\n",
    "                    except:\n",
    "                        pass\n",
    "            if isVerb == 1:\n",
    "                verb_sen_list.append(sen)\n",
    "#     print(verb_sen_list)\n",
    "\n",
    "    # 동반자와 같이 올 수 있는 조사 형태가 있는 단어만 추출 \n",
    "    companion_list = []\n",
    "    for sen in verb_sen_list:\n",
    "        isCompanion = 0\n",
    "        key_list = []\n",
    "        for word, _ in postprocessor.pos(sen):\n",
    "            for key, value in companions.items():\n",
    "                for v in value: \n",
    "                    if word == v:\n",
    "                        print(word, '=>', key)  \n",
    "                        key_list.append(key) # 동반자 유형을 할당 \n",
    "                        isCompanion = 1\n",
    "        if isCompanion == 1:\n",
    "            companion_list = companion_list + list(set(key_list))\n",
    "            print(sen)\n",
    "            print()\n",
    "#     test_list = ' '.join(sen_list)\n",
    "    \n",
    "    freq = Counter(companion_list)\n",
    "    print(freq)\n",
    "    \n",
    "    if len(freq) != 0:\n",
    "        companion_type = max(freq.keys(), key=(lambda k: freq[k]))\n",
    "        print(companion_type)\n",
    "        print()\n",
    "    else: \n",
    "        print('동반자 유형을 알 수 없습니다.')\n",
    "        print()\n",
    "    \n",
    "    return freq"
   ]
  },
  {
   "cell_type": "code",
   "execution_count": 39,
   "id": "aa29ee9b",
   "metadata": {
    "scrolled": false
   },
   "outputs": [
    {
     "name": "stdout",
     "output_type": "stream",
     "text": [
      "===========================관광지:  jangtae_mountain ( 장태산 ) ============\n",
      "가족 => 가족친지\n",
      "가족 및 아이들과 함께 시간을 보내기에 아름다운 곳입니다\n",
      "\n",
      "소풍 => 단체\n",
      "가깝고 조용하고 안전하고 길길 쭉쭉 메타세쿼이아 나무숲속 도시락 싸서 오손도손 소풍 오기 좋은 곳 도로도 점점 넓어져 오고 가는 길이 편해지는 곳 높다 하여 오르면 보이는 저수지의 놀라움 자연과 인공이 조화롭게 공존하는 곳입니다.\n",
      "\n",
      "가족 => 가족친지\n",
      "추석 연휴 가족과 함께 메타세쿼이아 숲길을 맘껏 누리고 갑니다.\n",
      "\n",
      "가족 => 가족친지\n",
      "나무가 정말 아름답습니다 가볼 만합니다. 가족단위로 방문하기 좋은 아주 좋은 곳입니다\n",
      "\n",
      "가족 => 가족친지\n",
      "시원하고 피톤치드 듬뿍 마시고 하늘 공원 빼어난 경치 외국에 와있는 듯한 수렵 한 번도 안 가본 사람은 있어도 한 번만 가본 사람은 없을 듯 깨끗하고 관리 잘 되어있는 편입니다. 가족과 산책하기 좋은 곳이죠.\n",
      "\n",
      "Counter({'가족친지': 4, '단체': 1})\n",
      "가족친지\n",
      "\n",
      "===========================관광지:  gyejok_mountain ( 계족산 ) ============\n",
      "가족 => 가족친지\n",
      "경치도 좋고 황토 길음 맨발로 걷는 색다름 가족과 함께 걸으며 대화도 하고 황토의 차가움을 느끼며 오래 걸으면 건강에 도움 됨을 피부로 느낌 힐링하기 너무 좋은 장소입니다.\n",
      "\n",
      "가족 => 가족친지\n",
      "강추 시작점과 중간지점에 발을 씻을 수 있는 공간도 있어 수건 한 장 챙겨가면 좋을 듯 맨발 황토하고 나면 피로 확 풀림 걷기 좋은 곳 생각하기 좋은 곳 맨발로 걷고 가족끼리 오기 좋은 곳입니다.\n",
      "\n",
      "가족 => 가족친지\n",
      "계족산 계족산성 여름 가을 가족들과 맨발로 황톳길을 걸을 수 있어 좋은 곳입니다\n",
      "\n",
      "Counter({'가족친지': 3})\n",
      "가족친지\n",
      "\n",
      "===========================관광지:  dongchundang ( 동춘당 ) ============\n",
      "가족 => 가족친지\n",
      "대전의 자랑스러운 장소입니다. 가족과 산책하기 좋은 곳 관광지는 아니지만 주변에 사시는 분들이라면 가보세요.\n",
      "\n",
      "Counter({'가족친지': 1})\n",
      "가족친지\n",
      "\n",
      "===========================관광지:  uineungjeongi_street ( 으느정이문화의거리 ) ============\n",
      "Counter()\n",
      "동반자 유형을 알 수 없습니다.\n",
      "\n",
      "===========================관광지:  ppuri_park ( 뿌리공원 ) ============\n",
      "가족 => 가족친지\n",
      "산책하기 좋은 어린 손주들 을 대리고 조상과 시조에 대하여 공부시키고 좋은 경치와 공기 훌륭한 족보 박 물관 등이 나의 뿌리에 대하여 다시 생각하게 하는 좋은 시간이었고 힐링 장소로도 나무랄 데 없는 물가 캠핑장 전망대 드넓은 잔디밭 휴식을 취할 수 있는 많은 테이블 데쿠 등 온 가족이 찾을 수 있는 좋은 곳입니다.\n",
      "\n",
      "가족 => 가족친지\n",
      "오늘 가을 날씨가 공허 한지 뿌리공원 가족들이 단풍 구경 하러 많이들 오셨네요\n",
      "\n",
      "가족 => 가족친지\n",
      "가족과 함께 가벼운 산책과 효 문화를 경험할 수 있는 곳이에요.\n",
      "\n",
      "가족 => 가족친지\n",
      "가족 => 가족친지\n",
      "대전에서 가족과 함께 가깝게 산책할 수 있는 좋은 곳 선책 아름다운 전망과 수상 스포츠 활동으로 피크닉을 즐기기에 좋은 곳입니다. 가족과 함께 휴식을 취하고 특별히 스포츠를 하기에 좋은 곳 자연의 품 안에서 활짝 핀 가을님 너무 좋아 푸리 공원은 약간 압도적이지만 피크닉과 수상 스포츠를 즐기기에 좋은 곳이었습니다.\n",
      "\n",
      "가족 => 가족친지\n",
      "개인 => 개인\n",
      "나는 여러 번역기에 있었다 가족 여행 개인 여행객에게 좋은 곳입니다\n",
      "\n",
      "Counter({'가족친지': 5, '개인': 1})\n",
      "가족친지\n",
      "\n",
      "===========================관광지:  expo_science_park ( 엑스포 ) ============\n",
      "가족 => 가족친지\n",
      "대전광역시 이쪽은 축제가 없으면 볼거리가 없습니다. 한 해도 거르지 않고 찾아오는 곳 이번엔 음악분수쇼 전에 달달한 사연도 읽어주시고 먹거리 잔뜩 있어 배도 부르고 좋은 물건 싸게 살 수 있는 찬스도 아이들에겐 더 없는 천국같읏곳 어른인 나도 이 시간들이 즐겁고 행복 가득 가족하고 갈만하네요.\n",
      "\n",
      "친구 => 친구연인\n",
      "세계 엑스포라는 가장 도시스러운 장소에 강이 흐르고 아름답게 조명해놓은 다리와 자전거와 도보가 잘 되어있는 길 그리고 광장과 엑스포다리 한빛탑이 일자로 서 아름답게 만들어진 풍경 가 조그 친구 연인 모두 가볍게 와도 좋은 곳이다.\n",
      "\n",
      "Counter({'가족친지': 1, '친구연인': 1})\n",
      "가족친지\n",
      "\n",
      "===========================관광지:  sungsimdang_bakery ( 성심당 ) ============\n",
      "학교 => 직장학교\n",
      "존 만 제가 세종 사는데 학교 시험 끝나거나 은행동 들릴 일 있으면 꼭 들리는 곳이에요\n",
      "\n",
      "가족 => 가족친지\n",
      "존 매트 주말이라 가족 연인들 손님들이 많고요 빵들을 몇 봉씩 많이 사 가요.\n",
      "\n",
      "친구 => 친구연인\n",
      "아주 다양한 빵과 여러 가지 종류의 음료도 함께 판매하고 전망 좋은 테이블 세팅이 있어 앉아서 친구 식구 지인들과 담소를 나누기 좋은 장소입니다.\n",
      "\n",
      "Counter({'직장학교': 1, '가족친지': 1, '친구연인': 1})\n",
      "직장학교\n",
      "\n",
      "===========================관광지:  water_barrel ( 수통골 ) ============\n",
      "가족 => 가족친지\n",
      "운동을 싫어하는 나는 싫어하지만 아주 좋다 가족이 무척 애용한다 식당 되게 많고 뷰는 최고다 굳이 점수를 준다면 5점 만점에 4 325점 주말에 비가 와서 그런지 물도 맑고 피라미도 많고 시원한 바람 아주 굿 산책도 좋고 등산도 좋은 곳이에요\n",
      "\n",
      "Counter({'가족친지': 1})\n",
      "가족친지\n",
      "\n",
      "===========================관광지:  yuseong_hotspring ( 유성온천 ) ============\n",
      "가족 => 가족친지\n",
      "운영시간 확인 필수 공짜의 즐거움 그냥 유성이지 머 족욕하기 전에 발 씻는 곳에서 발을 깨끗이 씻고 38 42도 천연 온천수에서 족욕할 수 있다. 가족이 함께하기 좋은 곳입니다.\n",
      "\n",
      "가족 => 가족친지\n",
      "시설도 깔끔하고 가족끼리 갔다\n",
      "\n",
      "Counter({'가족친지': 2})\n",
      "가족친지\n",
      "\n",
      "===========================관광지:  hanbat_arboretum ( 한밭수목원 ) ============\n",
      "가족 => 가족친지\n",
      "딸 => 가족친지\n",
      "코로나로부터 우리가 모두를 지켜요 함께하는 방역수칙 거리두기 안전 수칙 지키기 가족이나 연인들이 나들이 가기 좋은 곳 남문광장 쪽에 놀이터를 엄청 잘해놔서 우리 딸이랑 너무 신나게 잘 놀다 갑니다.\n",
      "\n",
      "가족 => 가족친지\n",
      "가족들과 대전에서 가볼 만한 곳을 찾다가 찾은 가볼 만한 곳 열대식물 점 즐감 봄이 와요\n",
      "\n",
      "친구 => 친구연인\n",
      "가족 => 가족친지\n",
      "아이들이랑 나들이하기 굿 친구 및 가족과 2 3 시간을 보내기에 좋은 곳입니다\n",
      "\n",
      "가족 => 가족친지\n",
      "가족 => 가족친지\n",
      "대전의 대표적인 장소로 휴식과 자연을 가족과 함께 즐길 수 있는 공원이고 온갖 종류의 식물들과 다양한 휴식공간을 갖추고 있는 훌륭한 장소이고 깨끗한 공기와 도시 한가운데서 여유를 즐길 수 있는 예술공간과 같은 곳임 걷기 좋은 곳으로 여유 있으면 가족들과 함께 오세요.\n",
      "\n",
      "가족 => 가족친지\n",
      "가족 => 가족친지\n",
      "근처에 엑스포 타워도 있고 수목원이 있어 도시락 싸서 가족단위로 놀러 가기 딱 와 너무 좋고 지리고 오지고 렛 잇 고 고라니 자라니 너무 많고 가족과 함께 나들이하기 좋은 곳이네요.\n",
      "\n",
      "아기 => 가족친지\n",
      "100일 사진 찍는 아기도 있었고 마스크 쓰고 잔디밭을 뛰어다닌 우리 아이들도 있었고 경치도 좋고 자연도 좋아 행복한 시간을 보냈다.\n",
      "\n",
      "아들 => 가족친지\n",
      "아들하고 자전거 타고 갔다\n",
      "\n",
      "친구 => 친구연인\n",
      "가족 => 가족친지\n",
      "나는 친구와 가족과 함께 여기에 왔습니다\n",
      "\n",
      "가족 => 가족친지\n",
      "마치 유럽을 온 느낌 돗자리 깔고 누워서 치킨 먹으며 넷플릭스 보면 세상을 다 가진 느낌 나 잼 도시 대전에서 그나마 가볼 만한 곳 중 하나 잘 조성된 수목원과 그 사이에 있는 자전거 도로 겸 산책로가 마음에 드는 곳 가족 또는 연인과 함께 가면 돗자리를 펴고 누워만 있어도 좋을 곳이다.\n",
      "\n",
      "Counter({'가족친지': 9, '친구연인': 2})\n",
      "가족친지\n",
      "\n",
      "===========================관광지:  science_museum ( 국립중앙과학관 ) ============\n",
      "가족 => 가족친지\n",
      "5인 한 가족이 과학을 이용해 체험하기 좋은 곳이다\n",
      "\n",
      "아기 => 가족친지\n",
      "아기 데리고 와서 밖 정자에서 김밥 먹고 건물 안에서 체험하고 구경하고 너무나 알찬 시간 보내고 가요.\n",
      "\n",
      "Counter({'가족친지': 2})\n",
      "가족친지\n",
      "\n",
      "===========================관광지:  daecheong_lake ( 대청호 ) ============\n",
      "가족 => 가족친지\n",
      "애들이나 노인을 동반한 가족 나들이로도 너무 좋고 연인이나 커플이 데이트하기에도 더없이 좋은 곳입니다\n",
      "\n",
      "가족 => 가족친지\n",
      "대청댐과 수자원에 대한 좋은 교육정보와 자료들이 잘 전시되어 있고 전망대에서는 멋진 주변 풍경을 감상할 수 있어서 가족들과 함께 나들이하며 휴식하기에 좋은 장소입니다.\n",
      "\n",
      "가족 => 가족친지\n",
      "지역 명소이기보단 지역에서 산책하고 나들이하기 좋은 곳 가족이 함께하기 좋은 장소입니다.\n",
      "\n",
      "소풍 => 단체\n",
      "단점은 조금 작은 규모와 편의시설 부재 촬영지 뭘 하기엔 너무 좁고 풍경도 별로 소풍 가기 좋은 곳이에요.\n",
      "\n",
      "가족 => 가족친지\n",
      "작은 연못에 산책로 덱 이 만들어져 있고 형형색색 가을 국화꽃이 즐비하고 향도 좋아 가족 나들이하기 좋은 곳입니다.\n",
      "\n",
      "Counter({'가족친지': 4, '단체': 1})\n",
      "가족친지\n",
      "\n",
      "===========================관광지:  art_culture_complex ( 대전문화예술단지 ) ============\n",
      "가족 => 가족친지\n",
      "친구 => 친구연인\n",
      "날씨고 물론 좋았고 주차장 편리하고 주변에 식당 많고 수목원 강 등과 연결되어 있어 아이들과 가기 너무 좋은 곳 가족 및 친구와 함께 방문하기에 아주 좋은 곳 발레 공연 보고 왔어요\n",
      "\n",
      "가족 => 가족친지\n",
      "이곳은 가족을 데려와 피크닉을 하기에 특별한 장소입니다\n",
      "\n",
      "가족 => 가족친지\n",
      "가족들 단위 산책하기 좋고 다양한 행사를 자주 개최해서 보고 즐길 수 있는 것들이 많은 곳입니다\n",
      "\n",
      "가족 => 가족친지\n",
      "입장료도 1000원으로 부담 없이 미술작품을 감상할 수 있는 곳이고 특히 어린아이들이 있는 가족이면 근처 공원도 나들이하기에 좋은 곳이다.\n",
      "\n",
      "가족 => 가족친지\n",
      "대전에서 힐링 한 곳 여유로움을 느끼며 데이 또 가족과 즐길 수 있는 넓은 잔디밭과 저렴한 관람료로 훌륭한 작품을 볼 수 있는 곳 강 꼭 가보세요\n",
      "\n",
      "가족 => 가족친지\n",
      "공원도 미술관도 야외에 앉아있기도 조 음 미술관이 공원 부지 내에 있고 공원 잔디밭에는 미술 조각품들이 전시되어 있어 가족과 연인들이 휴식을 취하기에는 좋은 장소입니다.\n",
      "\n",
      "단체 => 단체\n",
      "단체 => 단체\n",
      "맞죠요. 헬로 시티전 관람 무빙토이전티켓갖고가면 만 원에서 단체 요금 적용받아 팔천 원임 문화의 날과 모아 아웃렛 가입 카드 등에는 모두 단체 요금 적용 할인되는 것이 몇 가지 되니 미리 확인하고 가세요\n",
      "\n",
      "Counter({'가족친지': 6, '친구연인': 1, '단체': 1})\n",
      "가족친지\n",
      "\n",
      "===========================관광지:  observatory ( 시민천문대 ) ============\n",
      "Counter()\n",
      "동반자 유형을 알 수 없습니다.\n",
      "\n",
      "===========================관광지:  oworld_zoo ( 오월드 ) ============\n",
      "가족 => 가족친지\n",
      "가족 => 가족친지\n",
      "코로나 때문에 외출을 자재하고 있었는데 대전 동구 도담도담 지역아동센터에서 가족 초대를 해주어서 모처럼 만에 가족끼리 즐거운 시간을 보내고 왔습니다\n",
      "\n",
      "Counter({'가족친지': 1})\n",
      "가족친지\n",
      "\n"
     ]
    }
   ],
   "source": [
    "for keyword in eng2kor.keys():\n",
    "    key_kor = eng2kor[keyword]\n",
    "    print('===========================관광지: ', keyword, '(', key_kor, ')', '============')\n",
    "    runAll(keyword)\n",
    "#     break"
   ]
  },
  {
   "cell_type": "markdown",
   "id": "4e1fbe8f",
   "metadata": {},
   "source": [
    "## 관광지 15개 종합하여 동반자 유형 빈도수 추출 "
   ]
  },
  {
   "cell_type": "code",
   "execution_count": 36,
   "id": "fe7ad58b",
   "metadata": {
    "scrolled": false
   },
   "outputs": [
    {
     "name": "stdout",
     "output_type": "stream",
     "text": [
      "가족 => 가족친지\n",
      "애들이나 노인을 동반한 가족 나들이로도 너무 좋고 연인이나 커플이 데이트하기에도 더없이 좋은 곳입니다\n",
      "\n",
      "가족 => 가족친지\n",
      "대청댐과 수자원에 대한 좋은 교육정보와 자료들이 잘 전시되어 있고 전망대에서는 멋진 주변 풍경을 감상할 수 있어서 가족들과 함께 나들이하며 휴식하기에 좋은 장소입니다.\n",
      "\n",
      "가족 => 가족친지\n",
      "지역 명소이기보단 지역에서 산책하고 나들이하기 좋은 곳 가족이 함께하기 좋은 장소입니다.\n",
      "\n",
      "소풍 => 단체\n",
      "단점은 조금 작은 규모와 편의시설 부재 촬영지 뭘 하기엔 너무 좁고 풍경도 별로 소풍 가기 좋은 곳이에요.\n",
      "\n",
      "가족 => 가족친지\n",
      "작은 연못에 산책로 덱 이 만들어져 있고 형형색색 가을 국화꽃이 즐비하고 향도 좋아 가족 나들이하기 좋은 곳입니다.\n",
      "\n",
      "학교 => 직장학교\n",
      "존 만 제가 세종 사는데 학교 시험 끝나거나 은행동 들릴 일 있으면 꼭 들리는 곳이에요\n",
      "\n",
      "가족 => 가족친지\n",
      "존 매트 주말이라 가족 연인들 손님들이 많고요 빵들을 몇 봉씩 많이 사 가요.\n",
      "\n",
      "친구 => 친구연인\n",
      "아주 다양한 빵과 여러 가지 종류의 음료도 함께 판매하고 전망 좋은 테이블 세팅이 있어 앉아서 친구 식구 지인들과 담소를 나누기 좋은 장소입니다.\n",
      "\n",
      "가족 => 가족친지\n",
      "운동을 싫어하는 나는 싫어하지만 아주 좋다 가족이 무척 애용한다 식당 되게 많고 뷰는 최고다 굳이 점수를 준다면 5점 만점에 4 325점 주말에 비가 와서 그런지 물도 맑고 피라미도 많고 시원한 바람 아주 굿 산책도 좋고 등산도 좋은 곳이에요\n",
      "\n",
      "가족 => 가족친지\n",
      "가족 => 가족친지\n",
      "코로나 때문에 외출을 자재하고 있었는데 대전 동구 도담도담 지역아동센터에서 가족 초대를 해주어서 모처럼 만에 가족끼리 즐거운 시간을 보내고 왔습니다\n",
      "\n",
      "가족 => 가족친지\n",
      "경치도 좋고 황토 길음 맨발로 걷는 색다름 가족과 함께 걸으며 대화도 하고 황토의 차가움을 느끼며 오래 걸으면 건강에 도움 됨을 피부로 느낌 힐링하기 너무 좋은 장소입니다.\n",
      "\n",
      "가족 => 가족친지\n",
      "강추 시작점과 중간지점에 발을 씻을 수 있는 공간도 있어 수건 한 장 챙겨가면 좋을 듯 맨발 황토하고 나면 피로 확 풀림 걷기 좋은 곳 생각하기 좋은 곳 맨발로 걷고 가족끼리 오기 좋은 곳입니다.\n",
      "\n",
      "가족 => 가족친지\n",
      "계족산 계족산성 여름 가을 가족들과 맨발로 황톳길을 걸을 수 있어 좋은 곳입니다\n",
      "\n",
      "가족 => 가족친지\n",
      "산책하기 좋은 어린 손주들 을 대리고 조상과 시조에 대하여 공부시키고 좋은 경치와 공기 훌륭한 족보 박 물관 등이 나의 뿌리에 대하여 다시 생각하게 하는 좋은 시간이었고 힐링 장소로도 나무랄 데 없는 물가 캠핑장 전망대 드넓은 잔디밭 휴식을 취할 수 있는 많은 테이블 데쿠 등 온 가족이 찾을 수 있는 좋은 곳입니다.\n",
      "\n",
      "가족 => 가족친지\n",
      "오늘 가을 날씨가 공허 한지 뿌리공원 가족들이 단풍 구경 하러 많이들 오셨네요\n",
      "\n",
      "가족 => 가족친지\n",
      "가족과 함께 가벼운 산책과 효 문화를 경험할 수 있는 곳이에요.\n",
      "\n",
      "가족 => 가족친지\n",
      "가족 => 가족친지\n",
      "대전에서 가족과 함께 가깝게 산책할 수 있는 좋은 곳 선책 아름다운 전망과 수상 스포츠 활동으로 피크닉을 즐기기에 좋은 곳입니다. 가족과 함께 휴식을 취하고 특별히 스포츠를 하기에 좋은 곳 자연의 품 안에서 활짝 핀 가을님 너무 좋아 푸리 공원은 약간 압도적이지만 피크닉과 수상 스포츠를 즐기기에 좋은 곳이었습니다.\n",
      "\n",
      "가족 => 가족친지\n",
      "개인 => 개인\n",
      "나는 여러 번역기에 있었다 가족 여행 개인 여행객에게 좋은 곳입니다\n",
      "\n",
      "가족 => 가족친지\n",
      "대전의 자랑스러운 장소입니다. 가족과 산책하기 좋은 곳 관광지는 아니지만 주변에 사시는 분들이라면 가보세요.\n",
      "\n",
      "가족 => 가족친지\n",
      "친구 => 친구연인\n",
      "날씨고 물론 좋았고 주차장 편리하고 주변에 식당 많고 수목원 강 등과 연결되어 있어 아이들과 가기 너무 좋은 곳 가족 및 친구와 함께 방문하기에 아주 좋은 곳 발레 공연 보고 왔어요\n",
      "\n",
      "가족 => 가족친지\n",
      "이곳은 가족을 데려와 피크닉을 하기에 특별한 장소입니다\n",
      "\n",
      "가족 => 가족친지\n",
      "가족들 단위 산책하기 좋고 다양한 행사를 자주 개최해서 보고 즐길 수 있는 것들이 많은 곳입니다\n",
      "\n",
      "가족 => 가족친지\n",
      "입장료도 1000원으로 부담 없이 미술작품을 감상할 수 있는 곳이고 특히 어린아이들이 있는 가족이면 근처 공원도 나들이하기에 좋은 곳이다.\n",
      "\n",
      "가족 => 가족친지\n",
      "대전에서 힐링 한 곳 여유로움을 느끼며 데이 또 가족과 즐길 수 있는 넓은 잔디밭과 저렴한 관람료로 훌륭한 작품을 볼 수 있는 곳 강 꼭 가보세요\n",
      "\n",
      "가족 => 가족친지\n",
      "공원도 미술관도 야외에 앉아있기도 조 음 미술관이 공원 부지 내에 있고 공원 잔디밭에는 미술 조각품들이 전시되어 있어 가족과 연인들이 휴식을 취하기에는 좋은 장소입니다.\n",
      "\n",
      "단체 => 단체\n",
      "단체 => 단체\n",
      "맞죠요. 헬로 시티전 관람 무빙토이전티켓갖고가면 만 원에서 단체 요금 적용받아 팔천 원임 문화의 날과 모아 아웃렛 가입 카드 등에는 모두 단체 요금 적용 할인되는 것이 몇 가지 되니 미리 확인하고 가세요\n",
      "\n",
      "가족 => 가족친지\n",
      "운영시간 확인 필수 공짜의 즐거움 그냥 유성이지 머 족욕하기 전에 발 씻는 곳에서 발을 깨끗이 씻고 38 42도 천연 온천수에서 족욕할 수 있다. 가족이 함께하기 좋은 곳입니다.\n",
      "\n",
      "가족 => 가족친지\n",
      "시설도 깔끔하고 가족끼리 갔다\n",
      "\n",
      "가족 => 가족친지\n",
      "대전광역시 이쪽은 축제가 없으면 볼거리가 없습니다. 한 해도 거르지 않고 찾아오는 곳 이번엔 음악분수쇼 전에 달달한 사연도 읽어주시고 먹거리 잔뜩 있어 배도 부르고 좋은 물건 싸게 살 수 있는 찬스도 아이들에겐 더 없는 천국같읏곳 어른인 나도 이 시간들이 즐겁고 행복 가득 가족하고 갈만하네요.\n",
      "\n",
      "친구 => 친구연인\n",
      "세계 엑스포라는 가장 도시스러운 장소에 강이 흐르고 아름답게 조명해놓은 다리와 자전거와 도보가 잘 되어있는 길 그리고 광장과 엑스포다리 한빛탑이 일자로 서 아름답게 만들어진 풍경 가 조그 친구 연인 모두 가볍게 와도 좋은 곳이다.\n",
      "\n",
      "가족 => 가족친지\n",
      "딸 => 가족친지\n",
      "코로나로부터 우리가 모두를 지켜요 함께하는 방역수칙 거리두기 안전 수칙 지키기 가족이나 연인들이 나들이 가기 좋은 곳 남문광장 쪽에 놀이터를 엄청 잘해놔서 우리 딸이랑 너무 신나게 잘 놀다 갑니다.\n",
      "\n",
      "가족 => 가족친지\n",
      "가족들과 대전에서 가볼 만한 곳을 찾다가 찾은 가볼 만한 곳 열대식물 점 즐감 봄이 와요\n",
      "\n",
      "친구 => 친구연인\n",
      "가족 => 가족친지\n",
      "아이들이랑 나들이하기 굿 친구 및 가족과 2 3 시간을 보내기에 좋은 곳입니다\n",
      "\n",
      "가족 => 가족친지\n",
      "가족 => 가족친지\n",
      "대전의 대표적인 장소로 휴식과 자연을 가족과 함께 즐길 수 있는 공원이고 온갖 종류의 식물들과 다양한 휴식공간을 갖추고 있는 훌륭한 장소이고 깨끗한 공기와 도시 한가운데서 여유를 즐길 수 있는 예술공간과 같은 곳임 걷기 좋은 곳으로 여유 있으면 가족들과 함께 오세요.\n",
      "\n",
      "가족 => 가족친지\n",
      "가족 => 가족친지\n",
      "근처에 엑스포 타워도 있고 수목원이 있어 도시락 싸서 가족단위로 놀러 가기 딱 와 너무 좋고 지리고 오지고 렛 잇 고 고라니 자라니 너무 많고 가족과 함께 나들이하기 좋은 곳이네요.\n",
      "\n",
      "아기 => 가족친지\n",
      "100일 사진 찍는 아기도 있었고 마스크 쓰고 잔디밭을 뛰어다닌 우리 아이들도 있었고 경치도 좋고 자연도 좋아 행복한 시간을 보냈다.\n",
      "\n",
      "아들 => 가족친지\n",
      "아들하고 자전거 타고 갔다\n",
      "\n",
      "친구 => 친구연인\n",
      "가족 => 가족친지\n",
      "나는 친구와 가족과 함께 여기에 왔습니다\n",
      "\n",
      "가족 => 가족친지\n",
      "마치 유럽을 온 느낌 돗자리 깔고 누워서 치킨 먹으며 넷플릭스 보면 세상을 다 가진 느낌 나 잼 도시 대전에서 그나마 가볼 만한 곳 중 하나 잘 조성된 수목원과 그 사이에 있는 자전거 도로 겸 산책로가 마음에 드는 곳 가족 또는 연인과 함께 가면 돗자리를 펴고 누워만 있어도 좋을 곳이다.\n",
      "\n",
      "가족 => 가족친지\n",
      "가족 및 아이들과 함께 시간을 보내기에 아름다운 곳입니다\n",
      "\n",
      "소풍 => 단체\n",
      "가깝고 조용하고 안전하고 길길 쭉쭉 메타세쿼이아 나무숲속 도시락 싸서 오손도손 소풍 오기 좋은 곳 도로도 점점 넓어져 오고 가는 길이 편해지는 곳 높다 하여 오르면 보이는 저수지의 놀라움 자연과 인공이 조화롭게 공존하는 곳입니다.\n",
      "\n",
      "가족 => 가족친지\n",
      "추석 연휴 가족과 함께 메타세쿼이아 숲길을 맘껏 누리고 갑니다.\n",
      "\n",
      "가족 => 가족친지\n",
      "나무가 정말 아름답습니다 가볼 만합니다. 가족단위로 방문하기 좋은 아주 좋은 곳입니다\n",
      "\n",
      "가족 => 가족친지\n",
      "시원하고 피톤치드 듬뿍 마시고 하늘 공원 빼어난 경치 외국에 와있는 듯한 수렵 한 번도 안 가본 사람은 있어도 한 번만 가본 사람은 없을 듯 깨끗하고 관리 잘 되어있는 편입니다. 가족과 산책하기 좋은 곳이죠.\n",
      "\n",
      "가족 => 가족친지\n",
      "5인 한 가족이 과학을 이용해 체험하기 좋은 곳이다\n",
      "\n",
      "아기 => 가족친지\n",
      "아기 데리고 와서 밖 정자에서 김밥 먹고 건물 안에서 체험하고 구경하고 너무나 알찬 시간 보내고 가요.\n",
      "\n",
      "Counter({'가족친지': 40, '친구연인': 5, '단체': 3, '직장학교': 1, '개인': 1})\n",
      "가족친지\n",
      "\n"
     ]
    }
   ],
   "source": [
    "# 모든 관광지 중 방문자 유형 추출\n",
    "test_list = data_df['comment']\n",
    "\n",
    "# 각 문장에 마침표 추가 후 한 문단으로 모든 문장을 합해준다. \n",
    "test_list = list(map(dotAdd, test_list))\n",
    "test_list = ' '.join(test_list)\n",
    "sen_list = kss.split_sentences(test_list)\n",
    "\n",
    "josa_sen_list = []\n",
    "for sen in sen_list:        \n",
    "    word_list = [(word, pos) for word, pos in postprocessor.pos(sen)]\n",
    "    josa = ['랑', '을', '를', '은', '는', '이', '가', '와', '이와', '하고', '과 같이', '와 같이', '와 함께', '과 함께']\n",
    "    isJosa = 0\n",
    "    for word, pos in word_list:\n",
    "#             print(word)\n",
    "        if word in josa:\n",
    "            isJosa = 1\n",
    "\n",
    "    if isJosa == 1:\n",
    "        josa_sen_list.append(sen)\n",
    "#     print(josa_sen_list)\n",
    "\n",
    "# 방문자 유형을 확인할 수 있는 동사 리스트 \n",
    "# dict = lex:tag\n",
    "verb_dict = {'가':'VV', '놀':'VV', '오':'VV', '여행':'NNG', '방문':'NNG', '장소':'NNG', '곳':'NNG',\n",
    "             '모시':'VV', '보내':'VV'}\n",
    "verb_sen_list = []\n",
    "for sen in josa_sen_list:\n",
    "    if len(sen) < 1: \n",
    "        continue\n",
    "    else: \n",
    "        for word in api.analyze(sen):\n",
    "            isVerb = 0\n",
    "            for morph in word.morphs:\n",
    "                try: \n",
    "                    if morph.tag == verb_dict[morph.lex]:\n",
    "                        isVerb = 1\n",
    "                    else:\n",
    "                        continue\n",
    "                except:\n",
    "                    pass\n",
    "        if isVerb == 1:\n",
    "            verb_sen_list.append(sen)\n",
    "#     print(verb_sen_list)\n",
    "\n",
    "# 동반자와 같이 올 수 있는 조사 형태가 있는 단어만 추출 \n",
    "companion_list = []\n",
    "for sen in verb_sen_list:\n",
    "    isCompanion = 0\n",
    "    key_list = []\n",
    "    for word, _ in postprocessor.pos(sen):\n",
    "        for key, value in companions.items():\n",
    "            for v in value: \n",
    "                if word == v:\n",
    "                    print(word, '=>', key)  \n",
    "                    key_list.append(key) # 동반자 유형을 할당 \n",
    "                    isCompanion = 1\n",
    "    if isCompanion == 1:\n",
    "        companion_list = companion_list + list(set(key_list)) # 중복되는 key 제거\n",
    "        print(sen)\n",
    "        print()\n",
    "#     test_list = ' '.join(sen_list)\n",
    "\n",
    "freq = Counter(companion_list)\n",
    "print(freq)\n",
    "\n",
    "if len(freq) != 0:\n",
    "    companion_type = max(freq.keys(), key=(lambda k: freq[k]))\n",
    "    print(companion_type)\n",
    "    print()\n",
    "else: \n",
    "    print('동반자 유형을 알 수 없습니다.')\n",
    "    print()"
   ]
  }
 ],
 "metadata": {
  "kernelspec": {
   "display_name": "aiffel",
   "language": "python",
   "name": "aiffel"
  },
  "language_info": {
   "codemirror_mode": {
    "name": "ipython",
    "version": 3
   },
   "file_extension": ".py",
   "mimetype": "text/x-python",
   "name": "python",
   "nbconvert_exporter": "python",
   "pygments_lexer": "ipython3",
   "version": "3.7.10"
  },
  "toc": {
   "base_numbering": 1,
   "nav_menu": {},
   "number_sections": true,
   "sideBar": true,
   "skip_h1_title": false,
   "title_cell": "Table of Contents",
   "title_sidebar": "Contents",
   "toc_cell": false,
   "toc_position": {},
   "toc_section_display": true,
   "toc_window_display": false
  }
 },
 "nbformat": 4,
 "nbformat_minor": 5
}
