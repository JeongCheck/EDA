{
 "cells": [
  {
   "cell_type": "markdown",
   "id": "81604a71",
   "metadata": {},
   "source": [
    "# Google Review에서 동반자 유형 빈도수 추출 코드 \n",
    "\n",
    "* 구글 리뷰 데이터셋 파일들(각 관광지별로 저장된 15개의 파일들)이 있는 폴더를 타겟으로 지정한다. \n",
    "* 동반자 유형 사전을 만든다. \n",
    "* 구글 리뷰에 대해 특정 조사로 끝나는 단어들만 정제한다. \n",
    "* 품사 태깅을 진행하여 명사와 조사를 추출한다. \n",
    "* 명사가 동반자 유형 사전에 해당하는지 확인후 카운팅 한다. \n",
    "* 빈도수가 높은 순서대로 동반자 유형을 출력한다. \n",
    "* 해당 과정을 각 관광지별로 진행하고, 이후 전체 관광지 15개를 대상으로도 진행한다. "
   ]
  },
  {
   "cell_type": "markdown",
   "id": "19f7215d",
   "metadata": {},
   "source": [
    "## 타겟 파일 설정"
   ]
  },
  {
   "cell_type": "code",
   "execution_count": 1,
   "id": "431bd226",
   "metadata": {},
   "outputs": [],
   "source": [
    "target = 'labeled_spellcheck_8420'"
   ]
  },
  {
   "cell_type": "markdown",
   "id": "abd7015e",
   "metadata": {},
   "source": [
    "## 사용 라이브러리 "
   ]
  },
  {
   "cell_type": "code",
   "execution_count": 2,
   "id": "06e7a0e5",
   "metadata": {},
   "outputs": [],
   "source": [
    "import os # file path \n",
    "import glob # file path \n",
    "from tqdm import tqdm # execution time\n",
    "import re # regex\n",
    "import pandas as pd # dataframe\n",
    "import copy # deep copy\n",
    "\n",
    "from collections import Counter\n",
    "from ckonlpy.tag import Twitter\n",
    "from ckonlpy.tag import Postprocessor"
   ]
  },
  {
   "cell_type": "code",
   "execution_count": 3,
   "id": "47dd4bd8",
   "metadata": {},
   "outputs": [],
   "source": [
    "import warnings\n",
    "\n",
    "warnings.filterwarnings( 'ignore' )"
   ]
  },
  {
   "cell_type": "markdown",
   "id": "2347dd24",
   "metadata": {},
   "source": [
    "## 경로 설정"
   ]
  },
  {
   "cell_type": "code",
   "execution_count": 4,
   "id": "c583ea4e",
   "metadata": {
    "scrolled": false
   },
   "outputs": [
    {
     "name": "stdout",
     "output_type": "stream",
     "text": [
      "\u001b[01;34m/home/aiffel-dj19/jungcheck/DataPreprocessing/filtered/google_review/labeled_spellcheck_8420\u001b[00m\r\n",
      "├── google_reviews_art_culture_complex.csv\r\n",
      "├── google_reviews_daecheong_lake.csv\r\n",
      "├── google_reviews_dongchundang.csv\r\n",
      "├── google_reviews_expo_science_park.csv\r\n",
      "├── google_reviews_gyejok_mountain.csv\r\n",
      "├── google_reviews_hanbat_arboretum.csv\r\n",
      "├── google_reviews_jangtae_mountain.csv\r\n",
      "├── google_reviews_observatory.csv\r\n",
      "├── google_reviews_oworld_zoo.csv\r\n",
      "├── google_reviews_ppuri_park.csv\r\n",
      "├── google_reviews_science_museum.csv\r\n",
      "├── google_reviews_sungsimdang_bakery.csv\r\n",
      "├── google_reviews_uineungjeongi_street.csv\r\n",
      "├── google_reviews_water_barrel.csv\r\n",
      "└── google_reviews_yuseong_hotspring.csv\r\n",
      "\r\n",
      "0 directories, 15 files\r\n"
     ]
    }
   ],
   "source": [
    "!tree -L 3 -N /home/aiffel-dj19/jungcheck/DataPreprocessing/filtered/google_review/labeled_spellcheck_8420 # jungcheck 폴더내 filtered(전처리 후)의 파일트리 확인"
   ]
  },
  {
   "cell_type": "code",
   "execution_count": 5,
   "id": "b16242e2",
   "metadata": {},
   "outputs": [
    {
     "name": "stdout",
     "output_type": "stream",
     "text": [
      "/home/aiffel-dj19/jungcheck/DataPreprocessing\r\n"
     ]
    }
   ],
   "source": [
    "!pwd"
   ]
  },
  {
   "cell_type": "code",
   "execution_count": 6,
   "id": "4d635eba",
   "metadata": {},
   "outputs": [],
   "source": [
    "g_data_path = '/home/aiffel-dj19/jungcheck/DataPreprocessing'"
   ]
  },
  {
   "cell_type": "code",
   "execution_count": 7,
   "id": "8c776243",
   "metadata": {},
   "outputs": [
    {
     "data": {
      "text/plain": [
       "'/home/aiffel-dj19/jungcheck/DataPreprocessing/filtered/google_review/'"
      ]
     },
     "execution_count": 7,
     "metadata": {},
     "output_type": "execute_result"
    }
   ],
   "source": [
    "filtered_path = os.path.join(g_data_path, 'filtered/google_review/')\n",
    "filtered_path"
   ]
  },
  {
   "cell_type": "code",
   "execution_count": 8,
   "id": "e5b8d26a",
   "metadata": {},
   "outputs": [
    {
     "name": "stdout",
     "output_type": "stream",
     "text": [
      "/home/aiffel-dj19/jungcheck/DataPreprocessing/filtered/google_review/내의 파일 개수: 10개\n",
      "\n",
      "['google_reviews_spacing_8421.csv', 'labeled_spacing_8421', 'spacing_8421', 'google_reviews_labeled_spellcheck_8420.csv', 'labeled_spellcheck_8420', 'spacing_spellcheck_8420', 'spellcheck_8420', 'google_reviews_nolabel_8429.csv', 'google_reviews_labeled_spacing_8421.csv', 'google_reviews_labeled_8429.csv']\n"
     ]
    }
   ],
   "source": [
    "filtered_fds = os.listdir(filtered_path) # fds: 'folders'\n",
    "print(f'{filtered_path}내의 파일 개수: {len(filtered_fds)}개') \n",
    "print()\n",
    "print(filtered_fds)"
   ]
  },
  {
   "cell_type": "code",
   "execution_count": 9,
   "id": "24994a24",
   "metadata": {
    "scrolled": false
   },
   "outputs": [
    {
     "name": "stdout",
     "output_type": "stream",
     "text": [
      "영어 keyword => 한국어 keyword\n",
      "{'jangtae_mountain': '장태산', 'gyejok_mountain': '계족산', 'dongchundang': '동춘당', 'uineungjeongi_street': '으느정이문화의거리', 'ppuri_park': '뿌리공원', 'expo_science_park': '엑스포', 'sungsimdang_bakery': '성심당', 'water_barrel': '수통골', 'yuseong_hotspring': '유성온천', 'hanbat_arboretum': '한밭수목원', 'science_museum': '국립중앙과학관', 'daecheong_lake': '대청호', 'art_culture_complex': '대전문화예술단지', 'observatory': '시민천문대', 'oworld_zoo': '오월드'}\n",
      "\n",
      "한국어 keyword => 영어 keyword\n",
      "{'장태산': 'jangtae_mountain', '계족산': 'gyejok_mountain', '동춘당': 'dongchundang', '으느정이문화의거리': 'uineungjeongi_street', '뿌리공원': 'ppuri_park', '엑스포': 'expo_science_park', '성심당': 'sungsimdang_bakery', '수통골': 'water_barrel', '유성온천': 'yuseong_hotspring', '한밭수목원': 'hanbat_arboretum', '국립중앙과학관': 'science_museum', '대청호': 'daecheong_lake', '대전문화예술단지': 'art_culture_complex', '시민천문대': 'observatory', '오월드': 'oworld_zoo'}\n"
     ]
    }
   ],
   "source": [
    "# english keyword to korean keyword\n",
    "eng2kor = {\n",
    "            'jangtae_mountain': '장태산',\n",
    "             'gyejok_mountain': '계족산',\n",
    "             'dongchundang': '동춘당',\n",
    "             'uineungjeongi_street': '으느정이문화의거리',\n",
    "             'ppuri_park': '뿌리공원',\n",
    "             'expo_science_park': '엑스포',\n",
    "             'sungsimdang_bakery': '성심당',\n",
    "             'water_barrel': '수통골',\n",
    "             'yuseong_hotspring': '유성온천',\n",
    "             'hanbat_arboretum': '한밭수목원',\n",
    "             'science_museum': '국립중앙과학관',\n",
    "             'daecheong_lake': '대청호',\n",
    "             'art_culture_complex': '대전문화예술단지',\n",
    "             'observatory': '시민천문대',\n",
    "             'oworld_zoo': '오월드'\n",
    "}\n",
    "\n",
    "# korean keyword to english keyword\n",
    "kor2eng = {v:k for k, v in eng2kor.items()}\n",
    "\n",
    "print('영어 keyword => 한국어 keyword')\n",
    "print(eng2kor)\n",
    "print()\n",
    "print('한국어 keyword => 영어 keyword')\n",
    "print(kor2eng)"
   ]
  },
  {
   "cell_type": "markdown",
   "id": "928bfbb7",
   "metadata": {},
   "source": [
    "## 대상 파일 설정"
   ]
  },
  {
   "cell_type": "code",
   "execution_count": 10,
   "id": "6bb89b1f",
   "metadata": {},
   "outputs": [],
   "source": [
    "def concatCsv(data_type:str, keyword_kor='계족산'):\n",
    "    '''\n",
    "    정제 전 폴더 data와 정제 후 폴더 filtered간의 파일 구성이 따르기 때문에 \n",
    "    주어진 폴더명에 따라 dataframe을 합해주는 함수\n",
    "    '''\n",
    "\n",
    "    if data_type == 'data':\n",
    "        keyword_path = data_type + '/google_review/' + keyword_kor\n",
    "        folder_path = os.path.join(g_data_path, keyword_path)\n",
    "        print(f'folder name: {folder_path}')\n",
    "        print(f'..: {os.listdir(folder_path)}')\n",
    "        \n",
    "        data_list = []\n",
    "        for file in os.listdir(folder_path):\n",
    "            file_path = os.path.join(folder_path, file)\n",
    "            print(f'file path: {file_path}')\n",
    "\n",
    "            df = pd.read_csv(file_path, encoding='utf-8') \n",
    "            search = file.split('.')[0]  # 파일명에서 파일형식(.csv) 제외 후, 검색어 추출             \n",
    "            df['search'] = search\n",
    "            df['keyword'] = kor2eng[keyword_kor] \n",
    "            data_list.append(df)\n",
    "            print(f'해당 파일의 데이터 개수: {len(df)}')\n",
    "            print()\n",
    "        df = pd.concat(data_list, axis=0)\n",
    "        print('-'*40)\n",
    "        \n",
    "    elif data_type == 'filtered':\n",
    "        folder_path = os.path.join(g_data_path, data_type + '/google_review/' + target)\n",
    "        print(f'folder name: {folder_path}')\n",
    "        \n",
    "        data_list = []    \n",
    "        for file in os.listdir(folder_path):\n",
    "            file_path = os.path.join(folder_path, file)\n",
    "            print(f'file path: {file_path}')\n",
    "\n",
    "            df = pd.read_csv(file_path, encoding='utf-8')  # csv 파일 읽기\n",
    "            print(f'해당 파일의 데이터 개수: {len(df)}')\n",
    "            print()\n",
    "            data_list.append(df)\n",
    "            print('-'*40)\n",
    "            \n",
    "        df = pd.concat(data_list, axis=0)\n",
    "        print(target, '총 데이터 개수: ', len(df))\n",
    "    return df"
   ]
  },
  {
   "cell_type": "markdown",
   "id": "c562189e",
   "metadata": {},
   "source": [
    "##  데이터 불러오기"
   ]
  },
  {
   "cell_type": "code",
   "execution_count": 11,
   "id": "45b8bd9f",
   "metadata": {
    "scrolled": false
   },
   "outputs": [
    {
     "name": "stdout",
     "output_type": "stream",
     "text": [
      "folder name: /home/aiffel-dj19/jungcheck/DataPreprocessing/filtered/google_review/labeled_spellcheck_8420\n",
      "file path: /home/aiffel-dj19/jungcheck/DataPreprocessing/filtered/google_review/labeled_spellcheck_8420/google_reviews_daecheong_lake.csv\n",
      "해당 파일의 데이터 개수: 491\n",
      "\n",
      "----------------------------------------\n",
      "file path: /home/aiffel-dj19/jungcheck/DataPreprocessing/filtered/google_review/labeled_spellcheck_8420/google_reviews_sungsimdang_bakery.csv\n",
      "해당 파일의 데이터 개수: 1863\n",
      "\n",
      "----------------------------------------\n",
      "file path: /home/aiffel-dj19/jungcheck/DataPreprocessing/filtered/google_review/labeled_spellcheck_8420/google_reviews_water_barrel.csv\n",
      "해당 파일의 데이터 개수: 685\n",
      "\n",
      "----------------------------------------\n",
      "file path: /home/aiffel-dj19/jungcheck/DataPreprocessing/filtered/google_review/labeled_spellcheck_8420/google_reviews_observatory.csv\n",
      "해당 파일의 데이터 개수: 26\n",
      "\n",
      "----------------------------------------\n",
      "file path: /home/aiffel-dj19/jungcheck/DataPreprocessing/filtered/google_review/labeled_spellcheck_8420/google_reviews_oworld_zoo.csv\n",
      "해당 파일의 데이터 개수: 446\n",
      "\n",
      "----------------------------------------\n",
      "file path: /home/aiffel-dj19/jungcheck/DataPreprocessing/filtered/google_review/labeled_spellcheck_8420/google_reviews_gyejok_mountain.csv\n",
      "해당 파일의 데이터 개수: 483\n",
      "\n",
      "----------------------------------------\n",
      "file path: /home/aiffel-dj19/jungcheck/DataPreprocessing/filtered/google_review/labeled_spellcheck_8420/google_reviews_ppuri_park.csv\n",
      "해당 파일의 데이터 개수: 426\n",
      "\n",
      "----------------------------------------\n",
      "file path: /home/aiffel-dj19/jungcheck/DataPreprocessing/filtered/google_review/labeled_spellcheck_8420/google_reviews_dongchundang.csv\n",
      "해당 파일의 데이터 개수: 329\n",
      "\n",
      "----------------------------------------\n",
      "file path: /home/aiffel-dj19/jungcheck/DataPreprocessing/filtered/google_review/labeled_spellcheck_8420/google_reviews_art_culture_complex.csv\n",
      "해당 파일의 데이터 개수: 823\n",
      "\n",
      "----------------------------------------\n",
      "file path: /home/aiffel-dj19/jungcheck/DataPreprocessing/filtered/google_review/labeled_spellcheck_8420/google_reviews_yuseong_hotspring.csv\n",
      "해당 파일의 데이터 개수: 431\n",
      "\n",
      "----------------------------------------\n",
      "file path: /home/aiffel-dj19/jungcheck/DataPreprocessing/filtered/google_review/labeled_spellcheck_8420/google_reviews_uineungjeongi_street.csv\n",
      "해당 파일의 데이터 개수: 333\n",
      "\n",
      "----------------------------------------\n",
      "file path: /home/aiffel-dj19/jungcheck/DataPreprocessing/filtered/google_review/labeled_spellcheck_8420/google_reviews_expo_science_park.csv\n",
      "해당 파일의 데이터 개수: 783\n",
      "\n",
      "----------------------------------------\n",
      "file path: /home/aiffel-dj19/jungcheck/DataPreprocessing/filtered/google_review/labeled_spellcheck_8420/.~lock.google_reviews_water_barrel.csv#\n",
      "해당 파일의 데이터 개수: 0\n",
      "\n",
      "----------------------------------------\n",
      "file path: /home/aiffel-dj19/jungcheck/DataPreprocessing/filtered/google_review/labeled_spellcheck_8420/google_reviews_hanbat_arboretum.csv\n",
      "해당 파일의 데이터 개수: 402\n",
      "\n",
      "----------------------------------------\n",
      "file path: /home/aiffel-dj19/jungcheck/DataPreprocessing/filtered/google_review/labeled_spellcheck_8420/google_reviews_jangtae_mountain.csv\n",
      "해당 파일의 데이터 개수: 518\n",
      "\n",
      "----------------------------------------\n",
      "file path: /home/aiffel-dj19/jungcheck/DataPreprocessing/filtered/google_review/labeled_spellcheck_8420/google_reviews_science_museum.csv\n",
      "해당 파일의 데이터 개수: 381\n",
      "\n",
      "----------------------------------------\n",
      "labeled_spellcheck_8420 총 데이터 개수:  8420\n"
     ]
    }
   ],
   "source": [
    "data_df = concatCsv('filtered', _)"
   ]
  },
  {
   "cell_type": "markdown",
   "id": "aebe1bda",
   "metadata": {},
   "source": [
    "## 동반자 유형 사전 만들기 "
   ]
  },
  {
   "cell_type": "code",
   "execution_count": 12,
   "id": "de5ca529",
   "metadata": {},
   "outputs": [],
   "source": [
    "companions = {\n",
    "    '가족친지': ['남매', '자매', '형제', '아기', '여보', '아내', '남편', '가족', '친척', '사촌', '부모님', '시부모', '장인어른', '아버님', '어머님', '조카', '이모', '고모', '삼촌', '할아버지', '할머니', '친형', '친언니', '친누나', '친동생', '친오빠', '엄마', '아빠', '딸', '아들', '자식'],\n",
    "    '친구연인': ['동기', '후배', '선배', '남자친구', '여자친구', '자기', '과동기', '찐친', '절친', '친구', '언니', '동생', '형', '오빠'],\n",
    "    '직장': ['직장', '회사', '주임님', '회사동료', '사장님', '직장동료', '동료', '직장동기', '회사동기', '회사', '직장선배', '직장후배', '선임', '후임', '부장', '부장님', '차장님', '대리님'],\n",
    "    '학교': ['학과', '학교', '현장견학', '현장체험', '소풍', '수학여행']\n",
    "}"
   ]
  },
  {
   "cell_type": "code",
   "execution_count": 13,
   "id": "0a9f646a",
   "metadata": {
    "scrolled": false
   },
   "outputs": [
    {
     "data": {
      "text/plain": [
       "dict_keys(['가족친지', '친구연인', '직장', '학교'])"
      ]
     },
     "execution_count": 13,
     "metadata": {},
     "output_type": "execute_result"
    }
   ],
   "source": [
    "companions.keys()"
   ]
  },
  {
   "cell_type": "code",
   "execution_count": 14,
   "id": "5387b337",
   "metadata": {},
   "outputs": [],
   "source": [
    "def dotAdd(sen):\n",
    "    if sen[-1] in ['다', '요', '죠', '오', '자']:\n",
    "        sen = sen + '.'\n",
    "    return sen"
   ]
  },
  {
   "cell_type": "markdown",
   "id": "87239971",
   "metadata": {},
   "source": [
    "## 품사 태깅을 위한 토크나이저 활용\n",
    "* customized konlpy 활용\n",
    "    - 장점: 커스텀된 단어의 품사를 추가할 수 있음 "
   ]
  },
  {
   "cell_type": "code",
   "execution_count": 15,
   "id": "b590fbfa",
   "metadata": {},
   "outputs": [],
   "source": [
    "tagger = Twitter()\n",
    "tagger.add_dictionary(['남매', '자매', '형제', '아기', '가족', '친척', '사촌', '부모님', '시부모', '장인어른', \n",
    "                       '아버님', '어머님', '조카', '이모', '고모', '삼촌', '할아버지', '할머니', '친형', '친언니', \n",
    "                       '친누나', '친동생', '친오빠', '엄마', '아빠', '딸', '아들', '자식',\n",
    "                      '동기', '후배', '선배', '남자친구', '여자친구', '자기', '과동기', '찐친', \n",
    "                       '절친', '친구', '언니', '동생', '형', '오빠',\n",
    "                      '직장', '회사', '주임님', '회사동료', '사장님', '직장동료', '직장동기', '회사동기', \n",
    "                       '회사', '직장선배', '직장후배', '선임', '후임', '부장', '부장님', '차장님', '대리님',\n",
    "                      '학과', '학교', '현장견학', '현장체험', '소풍', '수학여행', '주차장'], 'Noun')\n",
    "tagger.add_dictionary(['랑', '와', '이와', '하고', '과 같이', '와 같이', '을', '를', '은', '는', '이', '가', '와 함께', '과 함께'], 'Josa')"
   ]
  },
  {
   "cell_type": "code",
   "execution_count": 16,
   "id": "ad490cc2",
   "metadata": {},
   "outputs": [],
   "source": [
    "postprocessor = Postprocessor(\n",
    "    base_tagger = tagger, # base tagger\n",
    "#     stopwords = ['랑', '와', '이와', '하고', '과 같이', '와 같이', '을', '를', '은', '는', '이', '가', '와 함께', '과 함께'], # 해당 단어 필터\n",
    "#     passwords = passwords, # 해당 단어만 선택\n",
    "    passtags = {'Noun', 'Josa'}, # 해당 품사만 선택\n",
    "#     replace = replace, # 해당 단어 set 치환\n",
    "#     ngrams = ngrams # 해당 복합 단어 set을 한 단어로 결합\n",
    ")"
   ]
  },
  {
   "cell_type": "markdown",
   "id": "db3a04ac",
   "metadata": {},
   "source": [
    "## 품사태깅 테스트 "
   ]
  },
  {
   "cell_type": "code",
   "execution_count": 17,
   "id": "124da872",
   "metadata": {
    "scrolled": true
   },
   "outputs": [
    {
     "name": "stdout",
     "output_type": "stream",
     "text": [
      "아빠 Noun\n",
      "하고 Josa\n",
      "아빠 Noun\n",
      "의 Josa\n",
      "엄마 Noun\n",
      "랑 Josa\n",
      "주차장 Noun\n",
      "을 Josa\n",
      "차장님 Noun\n",
      "이랑 Josa\n",
      "차장 Noun\n",
      "이랑 Josa\n",
      "같이 Josa\n"
     ]
    }
   ],
   "source": [
    "for word, pos in postprocessor.pos('아빠하고 아빠의 엄마랑 주차장을 차장님이랑 차장이랑 같이 왔다'):\n",
    "    print(word, pos)"
   ]
  },
  {
   "cell_type": "code",
   "execution_count": 18,
   "id": "5e89f8f1",
   "metadata": {
    "scrolled": false
   },
   "outputs": [
    {
     "data": {
      "text/plain": [
       "[('세', 'Noun'),\n",
       " ('이하', 'Noun'),\n",
       " ('아기', 'Noun'),\n",
       " ('랑', 'Josa'),\n",
       " ('가기', 'Noun'),\n",
       " ('무', 'Noun')]"
      ]
     },
     "execution_count": 18,
     "metadata": {},
     "output_type": "execute_result"
    }
   ],
   "source": [
    "postprocessor.pos(data_df['comment'].iloc[3123])"
   ]
  },
  {
   "cell_type": "code",
   "execution_count": 19,
   "id": "b13c3783",
   "metadata": {
    "scrolled": true
   },
   "outputs": [
    {
     "data": {
      "text/plain": [
       "False"
      ]
     },
     "execution_count": 19,
     "metadata": {},
     "output_type": "execute_result"
    }
   ],
   "source": [
    "'차장' == '주차장' # 주차장을 자꾸 차장으로 인식하는 오류 있음. 데이터 내에 차장과 관련된 데이터 없으므로 사전에서 제거 "
   ]
  },
  {
   "cell_type": "markdown",
   "id": "97f4874e",
   "metadata": {},
   "source": [
    "## 데이터 중 하나로 테스트"
   ]
  },
  {
   "cell_type": "code",
   "execution_count": 20,
   "id": "7099722a",
   "metadata": {},
   "outputs": [
    {
     "name": "stdout",
     "output_type": "stream",
     "text": [
      "5세 이하 아기랑 가기 넣무 좋아요\n",
      "아기 => 아기\n"
     ]
    }
   ],
   "source": [
    "print(data_df['comment'].iloc[3123])\n",
    "for word, pos in postprocessor.pos(data_df['comment'].iloc[3123]):\n",
    "    for key, value in companions.items():\n",
    "    #     print(value)\n",
    "        for v in value: \n",
    "            if word == v:\n",
    "                print(word, '=>', v)"
   ]
  },
  {
   "cell_type": "markdown",
   "id": "2dc9d76b",
   "metadata": {},
   "source": [
    "## 각 관광지별로 동반자 유형 빈도수 추출 "
   ]
  },
  {
   "cell_type": "code",
   "execution_count": 21,
   "id": "576bfc8f",
   "metadata": {},
   "outputs": [],
   "source": [
    "def runAll(keyword):\n",
    "    # 특정 관광지명을 대상으로 분석 \n",
    "    test_df = data_df[data_df['keyword'] == keyword]\n",
    "    test_list = test_df['comment']\n",
    "\n",
    "    # 각 문장에 마침표 추가 후 한 문단으로 모든 문장을 합해준다. \n",
    "    test_list = list(map(dotAdd, test_list))\n",
    "    test_list = ' '.join(test_list)\n",
    "\n",
    "    # \n",
    "    word_list = [(word, pos) for word, pos in postprocessor.pos(test_list)]\n",
    "\n",
    "    # 띄어쓰기 기반으로 문단을 한 단어씩 구분\n",
    "    filtered_words = test_list.split(' ')\n",
    "\n",
    "    josa = ['랑', '와', '이와', '하고', '과 같이', '와 같이', '을', '를', '은', '는', '이', '가', '와 함께', '과 함께']\n",
    "    josa_list = []\n",
    "    for j in josa:\n",
    "        for word in filtered_words:\n",
    "            if j in word and word.endswith(j) and len(word) > len(j):\n",
    "                josa_list.append(word)\n",
    "\n",
    "    # 동반자와 같이 올 수 있는 조사 형태가 있는 단어만 추출 \n",
    "    word_list = \" \".join(josa_list) \n",
    "    companion_list = []\n",
    "    for word, _ in postprocessor.pos(word_list):\n",
    "        for key, value in companions.items():\n",
    "            for v in value: \n",
    "                if word == v:\n",
    "                    print(word, '=>', key)\n",
    "                    companion_list.append(key) # 동반자 유형을 할당 \n",
    "    \n",
    "    freq = Counter(companion_list)\n",
    "    print(freq)\n",
    "    \n",
    "    if len(freq) != 0:\n",
    "        companion_type = max(freq.keys(), key=(lambda k: freq[k]))\n",
    "        print(companion_type)\n",
    "        print()\n",
    "    else: \n",
    "        print('동반자 유형을 알 수 없습니다.')\n",
    "        print()\n",
    "    \n",
    "    return freq"
   ]
  },
  {
   "cell_type": "code",
   "execution_count": 22,
   "id": "aa29ee9b",
   "metadata": {
    "scrolled": false
   },
   "outputs": [
    {
     "name": "stdout",
     "output_type": "stream",
     "text": [
      "===========================관광지:  jangtae_mountain ( 장태산 ) ============\n",
      "아빠 => 가족친지\n",
      "아내 => 가족친지\n",
      "남편 => 가족친지\n",
      "친구 => 친구연인\n",
      "친구 => 친구연인\n",
      "친구 => 친구연인\n",
      "조카 => 가족친지\n",
      "가족 => 가족친지\n",
      "친구 => 친구연인\n",
      "Counter({'가족친지': 5, '친구연인': 4})\n",
      "가족친지\n",
      "\n",
      "===========================관광지:  gyejok_mountain ( 계족산 ) ============\n",
      "가족 => 가족친지\n",
      "친구 => 친구연인\n",
      "가족 => 가족친지\n",
      "가족 => 가족친지\n",
      "가족 => 가족친지\n",
      "Counter({'가족친지': 4, '친구연인': 1})\n",
      "가족친지\n",
      "\n",
      "===========================관광지:  dongchundang ( 동춘당 ) ============\n",
      "아기 => 가족친지\n",
      "Counter({'가족친지': 1})\n",
      "가족친지\n",
      "\n",
      "===========================관광지:  uineungjeongi_street ( 으느정이문화의거리 ) ============\n",
      "동기 => 친구연인\n",
      "사장님 => 직장\n",
      "Counter({'친구연인': 1, '직장': 1})\n",
      "친구연인\n",
      "\n",
      "===========================관광지:  ppuri_park ( 뿌리공원 ) ============\n",
      "아기 => 가족친지\n",
      "가족 => 가족친지\n",
      "아기 => 가족친지\n",
      "아기 => 가족친지\n",
      "아기 => 가족친지\n",
      "아내 => 가족친지\n",
      "친구 => 친구연인\n",
      "아들 => 가족친지\n",
      "가족 => 가족친지\n",
      "가족 => 가족친지\n",
      "가족 => 가족친지\n",
      "동생 => 친구연인\n",
      "가족 => 가족친지\n",
      "가족 => 가족친지\n",
      "Counter({'가족친지': 12, '친구연인': 2})\n",
      "가족친지\n",
      "\n",
      "===========================관광지:  expo_science_park ( 엑스포 ) ============\n",
      "여자친구 => 친구연인\n",
      "가족 => 가족친지\n",
      "여자친구 => 친구연인\n",
      "여자친구 => 친구연인\n",
      "여자친구 => 친구연인\n",
      "친구 => 친구연인\n",
      "아내 => 가족친지\n",
      "친구 => 친구연인\n",
      "가족 => 가족친지\n",
      "오빠 => 친구연인\n",
      "소풍 => 학교\n",
      "소풍 => 학교\n",
      "아들 => 가족친지\n",
      "딸 => 가족친지\n",
      "Counter({'친구연인': 7, '가족친지': 5, '학교': 2})\n",
      "친구연인\n",
      "\n",
      "===========================관광지:  sungsimdang_bakery ( 성심당 ) ============\n",
      "회사 => 직장\n",
      "회사 => 직장\n",
      "친구 => 친구연인\n",
      "엄마 => 가족친지\n",
      "부모님 => 가족친지\n",
      "딸 => 가족친지\n",
      "아들 => 가족친지\n",
      "가족 => 가족친지\n",
      "딸 => 가족친지\n",
      "가족 => 가족친지\n",
      "친구 => 친구연인\n",
      "여자친구 => 친구연인\n",
      "회사 => 직장\n",
      "회사 => 직장\n",
      "Counter({'가족친지': 7, '직장': 4, '친구연인': 3})\n",
      "가족친지\n",
      "\n",
      "===========================관광지:  water_barrel ( 수통골 ) ============\n",
      "여자친구 => 친구연인\n",
      "언니 => 친구연인\n",
      "친구 => 친구연인\n",
      "가족 => 가족친지\n",
      "부모님 => 가족친지\n",
      "가족 => 가족친지\n",
      "가족 => 가족친지\n",
      "Counter({'가족친지': 4, '친구연인': 3})\n",
      "가족친지\n",
      "\n",
      "===========================관광지:  yuseong_hotspring ( 유성온천 ) ============\n",
      "아기 => 가족친지\n",
      "친구 => 친구연인\n",
      "할머니 => 가족친지\n",
      "가족 => 가족친지\n",
      "할아버지 => 가족친지\n",
      "아기 => 가족친지\n",
      "할머니 => 가족친지\n",
      "Counter({'가족친지': 6, '친구연인': 1})\n",
      "가족친지\n",
      "\n",
      "===========================관광지:  hanbat_arboretum ( 한밭수목원 ) ============\n",
      "딸 => 가족친지\n",
      "아기 => 가족친지\n",
      "친구 => 친구연인\n",
      "친구 => 친구연인\n",
      "아들 => 가족친지\n",
      "가족 => 가족친지\n",
      "아들 => 가족친지\n",
      "형 => 친구연인\n",
      "가족 => 가족친지\n",
      "가족 => 가족친지\n",
      "조카 => 가족친지\n",
      "Counter({'가족친지': 8, '친구연인': 3})\n",
      "가족친지\n",
      "\n",
      "===========================관광지:  science_museum ( 국립중앙과학관 ) ============\n",
      "조카 => 가족친지\n",
      "아들 => 가족친지\n",
      "가족 => 가족친지\n",
      "자기 => 친구연인\n",
      "아들 => 가족친지\n",
      "아들 => 가족친지\n",
      "Counter({'가족친지': 5, '친구연인': 1})\n",
      "가족친지\n",
      "\n",
      "===========================관광지:  daecheong_lake ( 대청호 ) ============\n",
      "아기 => 가족친지\n",
      "아기 => 가족친지\n",
      "가족 => 가족친지\n",
      "친구 => 친구연인\n",
      "Counter({'가족친지': 3, '친구연인': 1})\n",
      "가족친지\n",
      "\n",
      "===========================관광지:  art_culture_complex ( 대전문화예술단지 ) ============\n",
      "언니 => 친구연인\n",
      "여자친구 => 친구연인\n",
      "친구 => 친구연인\n",
      "아기 => 가족친지\n",
      "가족 => 가족친지\n",
      "형 => 친구연인\n",
      "딸 => 가족친지\n",
      "아빠 => 가족친지\n",
      "가족 => 가족친지\n",
      "가족 => 가족친지\n",
      "딸 => 가족친지\n",
      "Counter({'가족친지': 7, '친구연인': 4})\n",
      "가족친지\n",
      "\n",
      "===========================관광지:  observatory ( 시민천문대 ) ============\n",
      "Counter()\n",
      "동반자 유형을 알 수 없습니다.\n",
      "\n",
      "===========================관광지:  oworld_zoo ( 오월드 ) ============\n",
      "딸 => 가족친지\n",
      "아기 => 가족친지\n",
      "조카 => 가족친지\n",
      "엄마 => 가족친지\n",
      "아기 => 가족친지\n",
      "아기 => 가족친지\n",
      "아기 => 가족친지\n",
      "가족 => 가족친지\n",
      "가족 => 가족친지\n",
      "가족 => 가족친지\n",
      "가족 => 가족친지\n",
      "아들 => 가족친지\n",
      "Counter({'가족친지': 12})\n",
      "가족친지\n",
      "\n"
     ]
    }
   ],
   "source": [
    "for keyword in eng2kor.keys():\n",
    "    key_kor = eng2kor[keyword]\n",
    "    print('===========================관광지: ', keyword, '(', key_kor, ')', '============')\n",
    "    runAll(keyword)"
   ]
  },
  {
   "cell_type": "markdown",
   "id": "4e1fbe8f",
   "metadata": {},
   "source": [
    "## 관광지 15개 종합하여 동반자 유형 빈도수 추출 "
   ]
  },
  {
   "cell_type": "code",
   "execution_count": 23,
   "id": "fe7ad58b",
   "metadata": {},
   "outputs": [
    {
     "name": "stdout",
     "output_type": "stream",
     "text": [
      "Counter({'가족친지': 79, '친구연인': 31, '직장': 5, '학교': 2})\n",
      "가족친지\n"
     ]
    }
   ],
   "source": [
    "# 모든 관광지 중 방문자 유형 추출\n",
    "data_list = data_df['comment']\n",
    "\n",
    "# 각 문장에 마침표 추가 후 한 문단으로 모든 문장을 합해준다. \n",
    "data_list = list(map(dotAdd, data_list))\n",
    "data_list = ' '.join(data_list)\n",
    "\n",
    "# \n",
    "word_list = [(word, pos) for word, pos in postprocessor.pos(data_list)]\n",
    "\n",
    "# 띄어쓰기 기반으로 문단을 한 단어씩 구분\n",
    "filtered_words = data_list.split(' ')\n",
    "\n",
    "josa = ['랑', '와', '이와', '하고', '과 같이', '와 같이', '을', '를', '은', '는', '이', '가', '와 함께', '과 함께']\n",
    "josa_list = []\n",
    "for j in josa:\n",
    "    for word in filtered_words:\n",
    "        if j in word and word.endswith(j) and len(word) > len(j):\n",
    "            josa_list.append(word)\n",
    "\n",
    "# 동반자와 같이 올 수 있는 조사 형태가 있는 단어만 추출 \n",
    "word_list = \" \".join(josa_list) \n",
    "companion_list = []\n",
    "for word, _ in postprocessor.pos(word_list):\n",
    "    for key, value in companions.items():\n",
    "        for v in value: \n",
    "            if word == v:\n",
    "#                 print(word, '=>', key)\n",
    "                companion_list.append(key)\n",
    "                \n",
    "freq = Counter(companion_list)\n",
    "print(freq)\n",
    "\n",
    "companion_type = max(freq.keys(), key=(lambda k: freq[k]))\n",
    "print(companion_type)"
   ]
  }
 ],
 "metadata": {
  "kernelspec": {
   "display_name": "aiffel",
   "language": "python",
   "name": "aiffel"
  },
  "language_info": {
   "codemirror_mode": {
    "name": "ipython",
    "version": 3
   },
   "file_extension": ".py",
   "mimetype": "text/x-python",
   "name": "python",
   "nbconvert_exporter": "python",
   "pygments_lexer": "ipython3",
   "version": "3.7.10"
  },
  "toc": {
   "base_numbering": 1,
   "nav_menu": {},
   "number_sections": true,
   "sideBar": true,
   "skip_h1_title": false,
   "title_cell": "Table of Contents",
   "title_sidebar": "Contents",
   "toc_cell": false,
   "toc_position": {},
   "toc_section_display": true,
   "toc_window_display": true
  }
 },
 "nbformat": 4,
 "nbformat_minor": 5
}
